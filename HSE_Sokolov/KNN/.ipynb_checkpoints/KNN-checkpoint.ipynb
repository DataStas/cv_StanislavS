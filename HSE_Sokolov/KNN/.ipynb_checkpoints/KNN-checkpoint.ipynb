{
 "cells": [
  {
   "cell_type": "code",
   "execution_count": 1,
   "id": "c16996a9",
   "metadata": {},
   "outputs": [],
   "source": [
    "import pandas as pd\n",
    "import numpy as np\n",
    "\n",
    "from sklearn.model_selection import KFold, cross_val_score\n",
    "from sklearn.neighbors import KNeighborsClassifier\n",
    "from sklearn.preprocessing import StandardScaler\n",
    "from sklearn.preprocessing import scale"
   ]
  },
  {
   "cell_type": "code",
   "execution_count": 2,
   "id": "9476306d",
   "metadata": {},
   "outputs": [],
   "source": [
    "names = [\"Type\", \"Alcohol\", \"Malic acid\" , \"Ash\", 'Alcalinity of ash', 'Magnesium',\n",
    "         'Total phenols', 'Flavanoids', 'Nonflavanoid phenols',\n",
    "         'Proanthocyanins', 'Color intensity', 'Hue', 'OD280/OD315 of diluted wines', 'Proline']"
   ]
  },
  {
   "cell_type": "markdown",
   "id": "e2870437",
   "metadata": {},
   "source": [
    "**1. Загрузите выборку Wine**"
   ]
  },
  {
   "cell_type": "code",
   "execution_count": 179,
   "id": "a07b91ae",
   "metadata": {},
   "outputs": [],
   "source": [
    "data = pd.read_csv(\"../../../data/wine.data\")\n",
    "first = data.columns \n",
    "data.columns = names"
   ]
  },
  {
   "cell_type": "code",
   "execution_count": 180,
   "id": "57855603",
   "metadata": {},
   "outputs": [
    {
     "name": "stderr",
     "output_type": "stream",
     "text": [
      "C:\\Users\\Stanislav\\AppData\\Local\\Temp\\ipykernel_1412\\4172409597.py:2: FutureWarning: The frame.append method is deprecated and will be removed from pandas in a future version. Use pandas.concat instead.\n",
      "  data = data.append(a_series, ignore_index=True)\n"
     ]
    }
   ],
   "source": [
    "a_series = pd.Series(first, index = data.columns)\n",
    "data = data.append(a_series, ignore_index=True)"
   ]
  },
  {
   "cell_type": "markdown",
   "id": "6433a8ed",
   "metadata": {},
   "source": [
    "**2. Извлеките из данных признаки и классы. Класс записан в первом столбце (три варианта), признаки — в столбцах со второго по последний. Более подробно о сути признаков можно прочитать по адресу https://archive.ics.uci.edu/ml/datasets/Wine (см. также файл wine.names, приложенный к заданию)**"
   ]
  },
  {
   "cell_type": "code",
   "execution_count": 6,
   "id": "934fc721",
   "metadata": {},
   "outputs": [],
   "source": [
    "data = np.genfromtxt(\"../../../data/wine.data\", delimiter=',')\n",
    "y = data[:,0] \n",
    "X = data[:,1:]"
   ]
  },
  {
   "cell_type": "code",
   "execution_count": 3,
   "id": "f260e0ff",
   "metadata": {},
   "outputs": [],
   "source": [
    "data = pd.read_csv(\"../../../data/wine.data\")\n",
    "X = data[data.columns[1:]]\n",
    "y = data[data.columns[0]]"
   ]
  },
  {
   "cell_type": "code",
   "execution_count": 181,
   "id": "8880b27d",
   "metadata": {},
   "outputs": [],
   "source": [
    "X = data[data.columns[1:]]\n",
    "y = data[data.columns[0]]"
   ]
  },
  {
   "cell_type": "markdown",
   "id": "fa43a105",
   "metadata": {},
   "source": [
    "В зависимости от способа прочтения и значения \"первого соседа\" менялись результаты до нормировки."
   ]
  },
  {
   "cell_type": "markdown",
   "id": "02b0abcd",
   "metadata": {},
   "source": [
    "**3. Оценку качества необходимо провести методом кросс-валидации по 5 блокам (5-fold). Создайте генератор разбиений, который перемешивает выборку перед формированием блоков (shuffle=True). Для воспроизводимости результата, создавайте генератор KFold с фиксированным параметром random_state=42. В качестве меры качества используйте долю верных ответов (accuracy).**"
   ]
  },
  {
   "cell_type": "code",
   "execution_count": 3,
   "id": "31c52d63",
   "metadata": {},
   "outputs": [],
   "source": [
    "split = KFold(n_splits=5, shuffle=True, random_state=42)"
   ]
  },
  {
   "cell_type": "markdown",
   "id": "c94aa236",
   "metadata": {},
   "source": [
    "**4. Найдите точность классификации на кросс-валидации для метода k ближайших соседей (sklearn.neighbors.KNeighborsClassifier), при k от 1 до 50. При каком k получилось оптимальное качество? Чему оно равно (число в интервале от 0 до 1)? Данные результаты и будут ответами на вопросы 1 и 2.**"
   ]
  },
  {
   "cell_type": "code",
   "execution_count": 4,
   "id": "aad34de0",
   "metadata": {},
   "outputs": [],
   "source": [
    "def KNN_accuracy(n_neighbors_max, split, X, y):\n",
    "    means = list()\n",
    "    for k in range(1,n_neighbors_max+1):\n",
    "        K_class = KNeighborsClassifier(n_neighbors=k, n_jobs=-1)  \n",
    "        score = cross_val_score(estimator = K_class, X = X, \n",
    "y = y.astype('int'), cv=split,scoring='accuracy') \n",
    "        # в качестве y засовываем int/float и тд не object как если у нас датафрейм y.astype('int')\n",
    "        means.append(np.mean(score))\n",
    "    return means"
   ]
  },
  {
   "cell_type": "code",
   "execution_count": 6,
   "id": "8b0a7e59",
   "metadata": {},
   "outputs": [],
   "source": [
    "means = KNN_accuracy(50,split,X,y)\n",
    "means = pd.DataFrame(means,columns=['cross_val'])"
   ]
  },
  {
   "cell_type": "code",
   "execution_count": 192,
   "id": "878ba11d",
   "metadata": {},
   "outputs": [
    {
     "data": {
      "text/plain": [
       "cross_val    0.735238\n",
       "dtype: float64"
      ]
     },
     "execution_count": 192,
     "metadata": {},
     "output_type": "execute_result"
    }
   ],
   "source": [
    "means.max()"
   ]
  },
  {
   "cell_type": "markdown",
   "id": "463b10a3",
   "metadata": {},
   "source": [
    "**5. Произведите масштабирование признаков с помощью функции sklearn.preprocessing.scale. Снова найдите оптимальное k на кросс-валидации.**"
   ]
  },
  {
   "cell_type": "code",
   "execution_count": 7,
   "id": "fa5c1377",
   "metadata": {},
   "outputs": [],
   "source": [
    "X_train_scaled = scale(X)"
   ]
  },
  {
   "cell_type": "code",
   "execution_count": 10,
   "id": "fe5ad012",
   "metadata": {},
   "outputs": [],
   "source": [
    "scl = StandardScaler()\n",
    "scl.fit(X)\n",
    "X_train_scaled = scl.transform(X)"
   ]
  },
  {
   "cell_type": "code",
   "execution_count": 11,
   "id": "f8df456c",
   "metadata": {},
   "outputs": [
    {
     "data": {
      "text/plain": [
       "cross_val    0.977619\n",
       "dtype: float64"
      ]
     },
     "execution_count": 11,
     "metadata": {},
     "output_type": "execute_result"
    }
   ],
   "source": [
    "means = KNN_accuracy(50,split, X_train_scaled, y)\n",
    "means = pd.DataFrame(means,columns=['cross_val'])\n",
    "means.max()"
   ]
  },
  {
   "cell_type": "markdown",
   "id": "6289793a",
   "metadata": {},
   "source": [
    "**6. Какое значение k получилось оптимальным после приведения признаков к одному масштабу? Приведите ответы на вопросы 3 и 4. Помогло ли масштабирование признаков?**"
   ]
  },
  {
   "cell_type": "code",
   "execution_count": 12,
   "id": "ada08bac",
   "metadata": {},
   "outputs": [
    {
     "data": {
      "text/html": [
       "<div>\n",
       "<style scoped>\n",
       "    .dataframe tbody tr th:only-of-type {\n",
       "        vertical-align: middle;\n",
       "    }\n",
       "\n",
       "    .dataframe tbody tr th {\n",
       "        vertical-align: top;\n",
       "    }\n",
       "\n",
       "    .dataframe thead th {\n",
       "        text-align: right;\n",
       "    }\n",
       "</style>\n",
       "<table border=\"1\" class=\"dataframe\">\n",
       "  <thead>\n",
       "    <tr style=\"text-align: right;\">\n",
       "      <th></th>\n",
       "      <th>cross_val</th>\n",
       "    </tr>\n",
       "  </thead>\n",
       "  <tbody>\n",
       "    <tr>\n",
       "      <th>16</th>\n",
       "      <td>0.966508</td>\n",
       "    </tr>\n",
       "    <tr>\n",
       "      <th>17</th>\n",
       "      <td>0.966508</td>\n",
       "    </tr>\n",
       "    <tr>\n",
       "      <th>14</th>\n",
       "      <td>0.972063</td>\n",
       "    </tr>\n",
       "    <tr>\n",
       "      <th>15</th>\n",
       "      <td>0.972063</td>\n",
       "    </tr>\n",
       "    <tr>\n",
       "      <th>28</th>\n",
       "      <td>0.977619</td>\n",
       "    </tr>\n",
       "  </tbody>\n",
       "</table>\n",
       "</div>"
      ],
      "text/plain": [
       "    cross_val\n",
       "16   0.966508\n",
       "17   0.966508\n",
       "14   0.972063\n",
       "15   0.972063\n",
       "28   0.977619"
      ]
     },
     "execution_count": 12,
     "metadata": {},
     "output_type": "execute_result"
    }
   ],
   "source": [
    "means.sort_values(by='cross_val').tail(5)"
   ]
  },
  {
   "cell_type": "code",
   "execution_count": null,
   "id": "6077bc2c",
   "metadata": {},
   "outputs": [],
   "source": []
  }
 ],
 "metadata": {
  "kernelspec": {
   "display_name": "Python 3 (ipykernel)",
   "language": "python",
   "name": "python3"
  },
  "language_info": {
   "codemirror_mode": {
    "name": "ipython",
    "version": 3
   },
   "file_extension": ".py",
   "mimetype": "text/x-python",
   "name": "python",
   "nbconvert_exporter": "python",
   "pygments_lexer": "ipython3",
   "version": "3.9.10"
  }
 },
 "nbformat": 4,
 "nbformat_minor": 5
}
