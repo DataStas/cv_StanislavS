{
 "cells": [
  {
   "cell_type": "markdown",
   "id": "dee7c7c6",
   "metadata": {},
   "source": [
    "Введение\n",
    "В задачах классификации может быть много особенностей, влияющих на подсчет качества: различные цены ошибок, несбалансированность классов и т.д. Из-за этого существует большое количество метрик качества — каждая из них рассчитана на определенное сочетание свойств задачи и требований к ее решению.\n",
    "\n",
    "Меры качества классификации можно разбить на две большие группы: предназначенные для алгоритмов, выдающих номера классов, и для алгоритмов, выдающих оценки принадлежности к классам. К первой группе относятся доля правильных ответов, точность, полнота, F-мера. Ко второй — площади под ROC- или PR-кривой.\n",
    "\n",
    "Реализация в sklearn\n",
    "Различные метрики качества реализованы в пакете sklearn.metrics. Конкретные функции указаны в инструкции по выполнению задания.\n",
    "\n",
    "https://github.com/esokolov/ml-course-hse/blob/master/2016-fall/lecture-notes/lecture04-linclass.pdf\n",
    "https://github.com/esokolov/ml-course-hse/blob/master/2016-fall/seminars/sem05-linclass.pdf"
   ]
  },
  {
   "cell_type": "markdown",
   "id": "8ce5c453",
   "metadata": {},
   "source": [
    "**1. Загрузите файл classification.csv. В нем записаны истинные классы объектов выборки (колонка true) и ответы некоторого классификатора (колонка pred).**"
   ]
  },
  {
   "cell_type": "code",
   "execution_count": 70,
   "id": "66edc2e2",
   "metadata": {},
   "outputs": [],
   "source": [
    "import pandas as pd\n",
    "import numpy as np\n",
    "from sklearn.metrics import accuracy_score\n",
    "from sklearn.metrics import f1_score\n",
    "from sklearn.metrics import precision_score\n",
    "from sklearn.metrics import recall_score\n",
    "from sklearn.metrics import roc_auc_score\n",
    "from sklearn.metrics import precision_recall_curve\n",
    "import matplotlib.pyplot as plt"
   ]
  },
  {
   "cell_type": "code",
   "execution_count": 3,
   "id": "9dc8d66a",
   "metadata": {},
   "outputs": [],
   "source": [
    "data = pd.read_csv('../Metrics/classification.csv')"
   ]
  },
  {
   "attachments": {
    "image.png": {
     "image/png": "[encoded data removed]"
    }
   },
   "cell_type": "markdown",
   "id": "550abd8b",
   "metadata": {},
   "source": [
    "**2. Заполните таблицу ошибок классификации:**\n",
    "![image.png](attachment:image.png)\n",
    "**Для этого подсчитайте величины TP, FP, FN и TN согласно их определениям. Например, FP — это количество объектов, имеющих класс 0, но отнесенных алгоритмом к классу 1. Ответ в данном вопросе — четыре числа через пробел.**"
   ]
  },
  {
   "cell_type": "code",
   "execution_count": 5,
   "id": "81c85a7d",
   "metadata": {},
   "outputs": [
    {
     "data": {
      "text/html": [
       "<div>\n",
       "<style scoped>\n",
       "    .dataframe tbody tr th:only-of-type {\n",
       "        vertical-align: middle;\n",
       "    }\n",
       "\n",
       "    .dataframe tbody tr th {\n",
       "        vertical-align: top;\n",
       "    }\n",
       "\n",
       "    .dataframe thead th {\n",
       "        text-align: right;\n",
       "    }\n",
       "</style>\n",
       "<table border=\"1\" class=\"dataframe\">\n",
       "  <thead>\n",
       "    <tr style=\"text-align: right;\">\n",
       "      <th></th>\n",
       "      <th>true</th>\n",
       "      <th>pred</th>\n",
       "    </tr>\n",
       "  </thead>\n",
       "  <tbody>\n",
       "    <tr>\n",
       "      <th>0</th>\n",
       "      <td>1</td>\n",
       "      <td>0</td>\n",
       "    </tr>\n",
       "    <tr>\n",
       "      <th>1</th>\n",
       "      <td>1</td>\n",
       "      <td>1</td>\n",
       "    </tr>\n",
       "    <tr>\n",
       "      <th>2</th>\n",
       "      <td>1</td>\n",
       "      <td>1</td>\n",
       "    </tr>\n",
       "    <tr>\n",
       "      <th>3</th>\n",
       "      <td>0</td>\n",
       "      <td>0</td>\n",
       "    </tr>\n",
       "    <tr>\n",
       "      <th>4</th>\n",
       "      <td>1</td>\n",
       "      <td>1</td>\n",
       "    </tr>\n",
       "  </tbody>\n",
       "</table>\n",
       "</div>"
      ],
      "text/plain": [
       "   true  pred\n",
       "0     1     0\n",
       "1     1     1\n",
       "2     1     1\n",
       "3     0     0\n",
       "4     1     1"
      ]
     },
     "execution_count": 5,
     "metadata": {},
     "output_type": "execute_result"
    }
   ],
   "source": [
    "data.head()"
   ]
  },
  {
   "cell_type": "code",
   "execution_count": 92,
   "id": "797878af",
   "metadata": {},
   "outputs": [],
   "source": [
    "TP = data[(data['true'] == data['pred']) & (data['true'] == 1)].count()[0]\n",
    "FN = data[(data['true'] != data['pred']) & (data['true'] == 1)].count()[0]\n",
    "FP = data[(data['true'] != data['pred']) & (data['true'] == 0)].count()[0]\n",
    "TN = data[(data['true'] == data['pred']) & (data['true'] == 0)].count()[0]"
   ]
  },
  {
   "cell_type": "code",
   "execution_count": 93,
   "id": "1342cbd5",
   "metadata": {},
   "outputs": [
    {
     "name": "stdout",
     "output_type": "stream",
     "text": [
      "43 34 59 64\n"
     ]
    }
   ],
   "source": [
    "print(\"{} {} {} {}\".format(TP, FP, FN, TN))"
   ]
  },
  {
   "cell_type": "code",
   "execution_count": 95,
   "id": "7483871d",
   "metadata": {},
   "outputs": [],
   "source": [
    "with open('./1.txt', 'w') as f:\n",
    "    f.write(\"43 34 59 64\")\n",
    "f.close()"
   ]
  },
  {
   "cell_type": "markdown",
   "id": "26927861",
   "metadata": {},
   "source": [
    "**3. Посчитайте основные метрики качества классификатора:**\n",
    "\n",
    "Accuracy (доля верно угаданных) — sklearn.metrics.accuracy_score\n",
    "\n",
    "Precision (точность) — sklearn.metrics.precision_score\n",
    "\n",
    "Recall (полнота) — sklearn.metrics.recall_score\n",
    "\n",
    "F-мера — sklearn.metrics.f1_score\n",
    "\n",
    "В качестве ответа укажите эти четыре числа через пробел."
   ]
  },
  {
   "cell_type": "code",
   "execution_count": 37,
   "id": "a1a93e0d",
   "metadata": {},
   "outputs": [],
   "source": [
    "a = accuracy_score(y_true=data['true'], y_pred=data['pred'])"
   ]
  },
  {
   "cell_type": "code",
   "execution_count": 38,
   "id": "5a135fa5",
   "metadata": {},
   "outputs": [],
   "source": [
    "p = precision_score(y_true=data['true'], y_pred=data['pred'])"
   ]
  },
  {
   "cell_type": "code",
   "execution_count": 39,
   "id": "33b85e6b",
   "metadata": {},
   "outputs": [],
   "source": [
    "r = recall_score(y_true=data['true'], y_pred=data['pred'])"
   ]
  },
  {
   "cell_type": "code",
   "execution_count": 36,
   "id": "c95bea5c",
   "metadata": {},
   "outputs": [],
   "source": [
    "f = f1_score(y_true=data['true'], y_pred=data['pred'])"
   ]
  },
  {
   "cell_type": "code",
   "execution_count": 54,
   "id": "5cf6d436",
   "metadata": {},
   "outputs": [
    {
     "name": "stdout",
     "output_type": "stream",
     "text": [
      "0.54 0.56 0.42 0.48\n"
     ]
    }
   ],
   "source": [
    "print(\"%.2f %.2f %.2f %.2f\" % (a, p, r, f))"
   ]
  },
  {
   "cell_type": "code",
   "execution_count": 84,
   "id": "c789459c",
   "metadata": {},
   "outputs": [],
   "source": [
    "with open('./2.txt', 'w') as f:\n",
    "    f.write(\"0.54 0.56 0.42 0.48\")\n",
    "f.close()"
   ]
  },
  {
   "cell_type": "markdown",
   "id": "cad22e66",
   "metadata": {},
   "source": [
    "**4. Имеется четыре обученных классификатора. В файле scores.csv записаны истинные классы и значения степени принадлежности положительному классу для каждого классификатора на некоторой выборке:**\n",
    "\n",
    "для логистической регрессии — вероятность положительного класса (колонка score_logreg),\n",
    "\n",
    "для SVM — отступ от разделяющей поверхности (колонка score_svm),\n",
    "\n",
    "для метрического алгоритма — взвешенная сумма классов соседей (колонка score_knn),\n",
    "\n",
    "для решающего дерева — доля положительных объектов в листе (колонка score_tree).\n",
    "\n",
    "Загрузите этот файл."
   ]
  },
  {
   "cell_type": "code",
   "execution_count": 55,
   "id": "736d8b95",
   "metadata": {},
   "outputs": [],
   "source": [
    "scores = pd.read_csv(\"./scores.csv\")"
   ]
  },
  {
   "cell_type": "code",
   "execution_count": 56,
   "id": "22d002f9",
   "metadata": {},
   "outputs": [
    {
     "data": {
      "text/html": [
       "<div>\n",
       "<style scoped>\n",
       "    .dataframe tbody tr th:only-of-type {\n",
       "        vertical-align: middle;\n",
       "    }\n",
       "\n",
       "    .dataframe tbody tr th {\n",
       "        vertical-align: top;\n",
       "    }\n",
       "\n",
       "    .dataframe thead th {\n",
       "        text-align: right;\n",
       "    }\n",
       "</style>\n",
       "<table border=\"1\" class=\"dataframe\">\n",
       "  <thead>\n",
       "    <tr style=\"text-align: right;\">\n",
       "      <th></th>\n",
       "      <th>true</th>\n",
       "      <th>score_logreg</th>\n",
       "      <th>score_svm</th>\n",
       "      <th>score_knn</th>\n",
       "      <th>score_tree</th>\n",
       "    </tr>\n",
       "  </thead>\n",
       "  <tbody>\n",
       "    <tr>\n",
       "      <th>0</th>\n",
       "      <td>0</td>\n",
       "      <td>0.683832</td>\n",
       "      <td>0.145976</td>\n",
       "      <td>0.787063</td>\n",
       "      <td>0.500000</td>\n",
       "    </tr>\n",
       "    <tr>\n",
       "      <th>1</th>\n",
       "      <td>1</td>\n",
       "      <td>0.801966</td>\n",
       "      <td>0.239511</td>\n",
       "      <td>1.000000</td>\n",
       "      <td>0.833333</td>\n",
       "    </tr>\n",
       "    <tr>\n",
       "      <th>2</th>\n",
       "      <td>0</td>\n",
       "      <td>0.382315</td>\n",
       "      <td>-0.245701</td>\n",
       "      <td>0.000000</td>\n",
       "      <td>0.000000</td>\n",
       "    </tr>\n",
       "    <tr>\n",
       "      <th>3</th>\n",
       "      <td>1</td>\n",
       "      <td>0.506797</td>\n",
       "      <td>-0.137058</td>\n",
       "      <td>0.000000</td>\n",
       "      <td>0.105263</td>\n",
       "    </tr>\n",
       "    <tr>\n",
       "      <th>4</th>\n",
       "      <td>1</td>\n",
       "      <td>0.488781</td>\n",
       "      <td>-0.154148</td>\n",
       "      <td>0.000000</td>\n",
       "      <td>0.105263</td>\n",
       "    </tr>\n",
       "  </tbody>\n",
       "</table>\n",
       "</div>"
      ],
      "text/plain": [
       "   true  score_logreg  score_svm  score_knn  score_tree\n",
       "0     0      0.683832   0.145976   0.787063    0.500000\n",
       "1     1      0.801966   0.239511   1.000000    0.833333\n",
       "2     0      0.382315  -0.245701   0.000000    0.000000\n",
       "3     1      0.506797  -0.137058   0.000000    0.105263\n",
       "4     1      0.488781  -0.154148   0.000000    0.105263"
      ]
     },
     "execution_count": 56,
     "metadata": {},
     "output_type": "execute_result"
    }
   ],
   "source": [
    "scores.head()"
   ]
  },
  {
   "cell_type": "markdown",
   "id": "8277a6d6",
   "metadata": {},
   "source": [
    "**5. Посчитайте площадь под ROC-кривой для каждого классификатора. Какой классификатор имеет наибольшее значение метрики AUC-ROC (укажите название столбца)? Воспользуйтесь функцией sklearn.metrics.roc_auc_score.**"
   ]
  },
  {
   "cell_type": "code",
   "execution_count": 59,
   "id": "a03fe5b9",
   "metadata": {},
   "outputs": [],
   "source": [
    "l = roc_auc_score(y_true=scores['true'], y_score=scores['score_logreg'])\n",
    "s = roc_auc_score(y_true=scores['true'], y_score=scores['score_svm'])\n",
    "k = roc_auc_score(y_true=scores['true'], y_score=scores['score_knn'])\n",
    "t = roc_auc_score(y_true=scores['true'], y_score=scores['score_tree'])"
   ]
  },
  {
   "cell_type": "code",
   "execution_count": 61,
   "id": "4c3df9ef",
   "metadata": {},
   "outputs": [
    {
     "name": "stdout",
     "output_type": "stream",
     "text": [
      "0.72 0.71 0.64 0.69\n",
      "score_logreg\n"
     ]
    }
   ],
   "source": [
    "print(\"%.2f %.2f %.2f %.2f\" % (l, s, k, t))\n",
    "print('score_logreg')"
   ]
  },
  {
   "cell_type": "code",
   "execution_count": 85,
   "id": "fb98a669",
   "metadata": {},
   "outputs": [],
   "source": [
    "with open('./3.txt', 'w') as f:\n",
    "    f.write(\"score_logreg\")\n",
    "f.close()"
   ]
  },
  {
   "cell_type": "markdown",
   "id": "88ce4de8",
   "metadata": {},
   "source": [
    "**6. Какой классификатор достигает наибольшей точности (Precision) при полноте (Recall) не менее 70% ?**\n",
    "Чтобы получить ответ на этот вопрос, найдите все точки precision-recall-кривой с помощью функции sklearn.metrics.precision_recall_curve. Она возвращает три массива: precision, recall, thresholds. В них записаны точность и полнота при определенных порогах, указанных в массиве thresholds. Найдите максимальной значение точности среди тех записей, для которых полнота не меньше, чем 0.7."
   ]
  },
  {
   "cell_type": "code",
   "execution_count": 65,
   "id": "c91b0bed",
   "metadata": {},
   "outputs": [],
   "source": [
    "precition_logreg, recall_logreg, thresholds_logreg = precision_recall_curve(y_true=scores['true'], probas_pred=scores['score_logreg'])\n",
    "precition_svm, recall_svm, thresholds_svm = precision_recall_curve(y_true=scores['true'], probas_pred=scores['score_svm'])\n",
    "precition_knn, recall_knn, thresholds_knn = precision_recall_curve(y_true=scores['true'], probas_pred=scores['score_knn'])\n",
    "precition_tree, recall_tree, thresholds_tree = precision_recall_curve(y_true=scores['true'], probas_pred=scores['score_tree'])"
   ]
  },
  {
   "cell_type": "code",
   "execution_count": 72,
   "id": "f346a24a",
   "metadata": {},
   "outputs": [
    {
     "data": {
      "image/png": "[encoded data removed]",
      "text/plain": [
       "<Figure size 432x288 with 1 Axes>"
      ]
     },
     "metadata": {
      "needs_background": "light"
     },
     "output_type": "display_data"
    }
   ],
   "source": [
    "plt.plot(recall_logreg, precition_logreg, marker='.', label='logreg')\n",
    "plt.plot(recall_svm, precition_svm, marker='.', label='svm')\n",
    "plt.plot(recall_knn, precition_knn, marker='.', label='knn')\n",
    "plt.plot(recall_tree, precition_tree, marker='.', label='tree')\n",
    "plt.xlabel('Recall')\n",
    "plt.ylabel('Precision')\n",
    "plt.legend()\n",
    "plt.show()"
   ]
  },
  {
   "cell_type": "code",
   "execution_count": 75,
   "id": "80c39f5f",
   "metadata": {},
   "outputs": [],
   "source": [
    "tree_data = pd.DataFrame({'precision': precition_tree, 'recall': recall_tree})"
   ]
  },
  {
   "cell_type": "code",
   "execution_count": 81,
   "id": "2902cbc7",
   "metadata": {},
   "outputs": [
    {
     "data": {
      "text/html": [
       "<div>\n",
       "<style scoped>\n",
       "    .dataframe tbody tr th:only-of-type {\n",
       "        vertical-align: middle;\n",
       "    }\n",
       "\n",
       "    .dataframe tbody tr th {\n",
       "        vertical-align: top;\n",
       "    }\n",
       "\n",
       "    .dataframe thead th {\n",
       "        text-align: right;\n",
       "    }\n",
       "</style>\n",
       "<table border=\"1\" class=\"dataframe\">\n",
       "  <thead>\n",
       "    <tr style=\"text-align: right;\">\n",
       "      <th></th>\n",
       "      <th>precision</th>\n",
       "      <th>recall</th>\n",
       "    </tr>\n",
       "  </thead>\n",
       "  <tbody>\n",
       "    <tr>\n",
       "      <th>5</th>\n",
       "      <td>0.651786</td>\n",
       "      <td>0.744898</td>\n",
       "    </tr>\n",
       "  </tbody>\n",
       "</table>\n",
       "</div>"
      ],
      "text/plain": [
       "   precision    recall\n",
       "5   0.651786  0.744898"
      ]
     },
     "execution_count": 81,
     "metadata": {},
     "output_type": "execute_result"
    }
   ],
   "source": [
    "tree_data[tree_data['recall']>0.7].sort_values(by='precision').tail(1)"
   ]
  },
  {
   "cell_type": "code",
   "execution_count": 82,
   "id": "dff6e2db",
   "metadata": {},
   "outputs": [
    {
     "name": "stdout",
     "output_type": "stream",
     "text": [
      "0.65\n"
     ]
    }
   ],
   "source": [
    "print('0.65')"
   ]
  },
  {
   "cell_type": "code",
   "execution_count": 91,
   "id": "3854d3f3",
   "metadata": {},
   "outputs": [],
   "source": [
    "with open('./4.txt', 'w') as f:\n",
    "    f.write(\"score_tree\")\n",
    "f.close()"
   ]
  }
 ],
 "metadata": {
  "kernelspec": {
   "display_name": "Python 3 (ipykernel)",
   "language": "python",
   "name": "python3"
  },
  "language_info": {
   "codemirror_mode": {
    "name": "ipython",
    "version": 3
   },
   "file_extension": ".py",
   "mimetype": "text/x-python",
   "name": "python",
   "nbconvert_exporter": "python",
   "pygments_lexer": "ipython3",
   "version": "3.9.10"
  }
 },
 "nbformat": 4,
 "nbformat_minor": 5
}
