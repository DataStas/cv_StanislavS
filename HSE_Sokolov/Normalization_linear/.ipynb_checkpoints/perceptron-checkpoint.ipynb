{
 "cells": [
  {
   "cell_type": "markdown",
   "id": "02f04273",
   "metadata": {},
   "source": [
    "**Example**"
   ]
  },
  {
   "cell_type": "code",
   "execution_count": 1,
   "id": "bd109745",
   "metadata": {},
   "outputs": [],
   "source": [
    "import numpy as np\n",
    "from sklearn.linear_model import Perceptron\n",
    "X = np.array([[1, 2], [3, 4], [5, 6]])\n",
    "y = np.array([0, 1, 0])\n",
    "clf = Perceptron()\n",
    "clf.fit(X, y)\n",
    "predictions = clf.predict(X)"
   ]
  },
  {
   "cell_type": "markdown",
   "id": "45cdde82",
   "metadata": {},
   "source": [
    "from sklearn.preprocessing import StandardScaler\n",
    "scaler = StandardScaler()\n",
    "X_train = np.array([[100.0, 2.0], [50.0, 4.0], [70.0, 6.0]])\n",
    "X_test = np.array([[90.0, 1], [40.0, 3], [60.0, 4]])\n",
    "X_train_scaled = scaler.fit_transform(X_train)\n",
    "X_test_scaled = scaler.transform(X_test)"
   ]
  },
  {
   "cell_type": "markdown",
   "id": "ea456f47",
   "metadata": {},
   "source": [
    "**1. Загрузите обучающую и тестовую выборки из файлов perceptron-train.csv и perceptron-test.csv. Целевая переменная записана в первом столбце, признаки — во втором и третьем.**"
   ]
  },
  {
   "cell_type": "code",
   "execution_count": 1,
   "id": "cec45d6b",
   "metadata": {},
   "outputs": [],
   "source": [
    "import pandas as pd\n",
    "import numpy as np\n",
    "from sklearn.linear_model import Perceptron\n",
    "from sklearn.preprocessing import StandardScaler\n",
    "from sklearn.metrics import accuracy_score"
   ]
  },
  {
   "cell_type": "code",
   "execution_count": 2,
   "id": "0c943f48",
   "metadata": {},
   "outputs": [],
   "source": [
    "train = pd.read_csv('../Normalization_linear/perceptron-train.csv', names=['target', 'feature1', 'feature2'])\n",
    "test = pd.read_csv('../Normalization_linear/perceptron-test.csv', names=['target', 'feature1', 'feature2'])"
   ]
  },
  {
   "cell_type": "code",
   "execution_count": 3,
   "id": "ffc4490d",
   "metadata": {},
   "outputs": [],
   "source": [
    "y_train = train.iloc[:,0]\n",
    "X_train = train.iloc[:,1:]\n",
    "y_test = test.iloc[:,0]\n",
    "X_test = test.iloc[:,1:]"
   ]
  },
  {
   "cell_type": "markdown",
   "id": "4d0457e1",
   "metadata": {},
   "source": [
    "**2. Обучите персептрон со стандартными параметрами и random_state=241.**"
   ]
  },
  {
   "cell_type": "code",
   "execution_count": 32,
   "id": "c01f68ba",
   "metadata": {},
   "outputs": [],
   "source": [
    "Perceptron?"
   ]
  },
  {
   "cell_type": "code",
   "execution_count": 27,
   "id": "7db10b64",
   "metadata": {},
   "outputs": [
    {
     "data": {
      "text/plain": [
       "Perceptron(n_jobs=-1, random_state=241, tol=None)"
      ]
     },
     "execution_count": 27,
     "metadata": {},
     "output_type": "execute_result"
    }
   ],
   "source": [
    "# tol = The stopping criterion. If it is not None, the iterations will stop\n",
    "# max_iter  The maximum number of passes over the training data (aka epochs).\n",
    "clf = Perceptron(random_state=241, tol=None, n_jobs=-1, shuffle=True)\n",
    "clf.fit(X_train, y_train)"
   ]
  },
  {
   "cell_type": "markdown",
   "id": "9e4cd9f9",
   "metadata": {},
   "source": [
    "**3. Подсчитайте качество (долю правильно классифицированных объектов, accuracy) полученного классификатора на тестовой выборке.**"
   ]
  },
  {
   "cell_type": "code",
   "execution_count": 28,
   "id": "f8e68ed7",
   "metadata": {},
   "outputs": [
    {
     "data": {
      "text/plain": [
       "0.685"
      ]
     },
     "execution_count": 28,
     "metadata": {},
     "output_type": "execute_result"
    }
   ],
   "source": [
    "score = accuracy_score(y_true=y_test.values.ravel(), y_pred=clf.predict(X_test))\n",
    "score"
   ]
  },
  {
   "cell_type": "markdown",
   "id": "bb203806",
   "metadata": {},
   "source": [
    "**4. Нормализуйте обучающую и тестовую выборку с помощью класса StandardScaler.**"
   ]
  },
  {
   "cell_type": "code",
   "execution_count": 29,
   "id": "af628e9d",
   "metadata": {},
   "outputs": [],
   "source": [
    "scaler = StandardScaler()\n",
    "X_train_scaled = scaler.fit_transform(X_train)\n",
    "X_test_scaled = scaler.transform(X_test)"
   ]
  },
  {
   "cell_type": "markdown",
   "id": "fbba73a8",
   "metadata": {},
   "source": [
    "**5. Обучите персептрон на новой выборке. Найдите долю правильных ответов на тестовой выборке.**"
   ]
  },
  {
   "cell_type": "code",
   "execution_count": 30,
   "id": "b62ef6b5",
   "metadata": {},
   "outputs": [
    {
     "data": {
      "text/plain": [
       "0.89"
      ]
     },
     "execution_count": 30,
     "metadata": {},
     "output_type": "execute_result"
    }
   ],
   "source": [
    "clf.fit(X_train_scaled, y_train.values.ravel())\n",
    "scaled_score = accuracy_score(y_true=y_test.values.ravel(), y_pred=clf.predict(X_test_scaled))\n",
    "scaled_score"
   ]
  },
  {
   "cell_type": "markdown",
   "id": "9979519f",
   "metadata": {},
   "source": [
    "**6. Найдите разность между качеством на тестовой выборке после нормализации и качеством до нее. Это число и будет ответом на задание.**"
   ]
  },
  {
   "cell_type": "code",
   "execution_count": 31,
   "id": "a6a50d0d",
   "metadata": {},
   "outputs": [
    {
     "name": "stdout",
     "output_type": "stream",
     "text": [
      "0.20\n"
     ]
    }
   ],
   "source": [
    "print(\"{:0.2f}\".format(scaled_score-score))"
   ]
  }
 ],
 "metadata": {
  "kernelspec": {
   "display_name": "Python 3 (ipykernel)",
   "language": "python",
   "name": "python3"
  },
  "language_info": {
   "codemirror_mode": {
    "name": "ipython",
    "version": 3
   },
   "file_extension": ".py",
   "mimetype": "text/x-python",
   "name": "python",
   "nbconvert_exporter": "python",
   "pygments_lexer": "ipython3",
   "version": "3.9.10"
  }
 },
 "nbformat": 4,
 "nbformat_minor": 5
}
