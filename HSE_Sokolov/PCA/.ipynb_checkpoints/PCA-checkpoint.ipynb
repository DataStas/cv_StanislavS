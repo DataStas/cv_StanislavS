{
 "cells": [
  {
   "cell_type": "markdown",
   "id": "1522046b",
   "metadata": {},
   "source": [
    "Введение\n",
    "Метод главных компонент (principal component analysis, PCA) — это один из методов обучения без учителя, который позволяет сформировать новые признаки, являющиеся линейными комбинациями старых. При этом новые признаки строятся так, чтобы сохранить как можно больше дисперсии в данных. Иными словами, метод главных компонент понижает размерность данных оптимальным с точки зрения сохранения дисперсии способом.\n",
    "\n",
    "Основным параметром метода главных компонент является количество новых признаков. Как и в большинстве методов машинного обучения, нет четких рекомендаций по поводу выбора значения этого параметров. Один из подходов — выбирать минимальное число компонент, при котором объясняется не менее определенной доли дисперсии (это означает, что в выборке сохраняется данная доля от исходной дисперсии).\n",
    "\n",
    "В этом задании понадобится измерять схожесть двух наборов величин. Если имеется набор пар измерений (например, одна пара — предсказания двух классификаторов для одного и того же объекта), то охарактеризовать их зависимость друг от друга можно с помощью корреляции Пирсона. Она принимает значения от -1 до 1 и показывает, насколько данные величины линейно зависимы. Если корреляция равна -1 или 1, то величины линейно выражаются друг через друга. Если она равна нулю, то линейная зависимость между величинами отсутствует.\n",
    "\n",
    "Данные\n",
    "В этом задании мы будем работать с данными о стоимостях акций 30 крупнейших компаний США. На основе этих данных можно оценить состояние экономики, например, с помощью индекса Доу-Джонса. Со временем состав компаний, по которым строится индекс, меняется. Для набора данных был взят период с 23.09.2013 по 18.03.2015, в котором набор компаний был фиксирован (подробнее почитать о составе можно по ссылке из материалов). \n",
    "\n",
    "Одним из существенных недостатков индекса Доу-Джонса является способ его вычисления — при подсчёте индекса цены входящих в него акций складываются, а потом делятся на поправочный коэффициент. В результате, даже если одна компания заметно меньше по капитализации, чем другая, но стоимость одной её акции выше, то она сильнее влияет на индекс. Даже большое процентное изменение цены относительно дешёвой акции может быть нивелировано незначительным в процентном отношении изменением цены более дорогой акции.\n",
    "\n",
    "Реализация в sklearn\n",
    "Метод главных компонент реализован в пакете scikit-learn в модуле decomposition в классе PCA. Основным параметром является количество компонент (n_components). Для обученного преобразования этот класс позволяет вычислять различные характеристики. Например, поле explained_variance_ratio_ содержит процент дисперсии, который объясняет каждая компонента. Поле components_ содержит информацию о том, какой вклад вносят признаки в компоненты. Чтобы применить обученное преобразование к данным, можно воспользоваться методом transform. \n",
    "\n",
    "Для нахождения коэффициента корреляции Пирсона можно воспользоваться функцией corrcoef из пакета numpy."
   ]
  },
  {
   "cell_type": "markdown",
   "id": "e483d8a4",
   "metadata": {},
   "source": [
    "**1. Загрузите данные close_prices.csv. В этом файле приведены цены акций 30 компаний на закрытии торгов за каждый день периода.**"
   ]
  },
  {
   "cell_type": "code",
   "execution_count": 5,
   "id": "95fe8575",
   "metadata": {},
   "outputs": [],
   "source": [
    "import pandas as pd\n",
    "import numpy as np\n",
    "from sklearn.decomposition import PCA"
   ]
  },
  {
   "cell_type": "code",
   "execution_count": 2,
   "id": "7ebe2658",
   "metadata": {},
   "outputs": [],
   "source": [
    "data = pd.read_csv('./close_prices.csv')"
   ]
  },
  {
   "cell_type": "markdown",
   "id": "54be1756",
   "metadata": {},
   "source": [
    "**2. На загруженных данных обучите преобразование PCA с числом компоненты равным 10. Скольких компонент хватит, чтобы объяснить 90% дисперсии?**"
   ]
  },
  {
   "cell_type": "code",
   "execution_count": 10,
   "id": "0d9b78cf",
   "metadata": {},
   "outputs": [
    {
     "data": {
      "text/plain": [
       "PCA(n_components=10)"
      ]
     },
     "execution_count": 10,
     "metadata": {},
     "output_type": "execute_result"
    }
   ],
   "source": [
    "pca = PCA(n_components=10)\n",
    "pca.fit(data.iloc[:,1:])"
   ]
  },
  {
   "cell_type": "code",
   "execution_count": 13,
   "id": "460cbfdf",
   "metadata": {},
   "outputs": [
    {
     "data": {
      "text/plain": [
       "array([0.73897118, 0.11007169, 0.04995088, 0.0287492 , 0.02215448,\n",
       "       0.01931577, 0.00674853, 0.00614091, 0.00320594, 0.00305611])"
      ]
     },
     "execution_count": 13,
     "metadata": {},
     "output_type": "execute_result"
    }
   ],
   "source": [
    "pca.explained_variance_ratio_ # нужно по сумме приращений дисперсии смотреть!!!"
   ]
  },
  {
   "cell_type": "code",
   "execution_count": 15,
   "id": "1a7bcdf9",
   "metadata": {},
   "outputs": [
    {
     "name": "stdout",
     "output_type": "stream",
     "text": [
      "4\n"
     ]
    }
   ],
   "source": [
    "percent_90 = 0\n",
    "sum_var = 0\n",
    "component_count = 0\n",
    "for v in pca.explained_variance_ratio_:\n",
    "    sum_var += v\n",
    "    component_count += 1\n",
    "    if sum_var >= 0.9:\n",
    "        percent_90 = component_count\n",
    "        break\n",
    "\n",
    "print(percent_90)"
   ]
  },
  {
   "cell_type": "code",
   "execution_count": 66,
   "id": "064d4832",
   "metadata": {},
   "outputs": [],
   "source": [
    "with open('./1.txt', 'w') as f:\n",
    "    f.write(\"4\")\n",
    "f.close()"
   ]
  },
  {
   "cell_type": "markdown",
   "id": "6219f340",
   "metadata": {},
   "source": [
    "**3.Примените построенное преобразование к исходным данным и возьмите значения первой компоненты.**"
   ]
  },
  {
   "cell_type": "code",
   "execution_count": 31,
   "id": "d0d3e75b",
   "metadata": {},
   "outputs": [
    {
     "data": {
      "text/plain": [
       "31"
      ]
     },
     "execution_count": 31,
     "metadata": {},
     "output_type": "execute_result"
    }
   ],
   "source": [
    "len(data.columns)"
   ]
  },
  {
   "cell_type": "code",
   "execution_count": 11,
   "id": "e586eeea",
   "metadata": {},
   "outputs": [],
   "source": [
    "new_data = pca.transform(data.iloc[:,1:])"
   ]
  },
  {
   "cell_type": "markdown",
   "id": "2672cccd",
   "metadata": {},
   "source": [
    "**4. Загрузите информацию об индексе Доу-Джонса из файла djia_index.csv. Чему равна корреляция Пирсона между первой компонентой и индексом Доу-Джонса?**"
   ]
  },
  {
   "cell_type": "code",
   "execution_count": 49,
   "id": "e5920fa7",
   "metadata": {},
   "outputs": [
    {
     "data": {
      "text/plain": [
       "Index(['date', '^DJI'], dtype='object')"
      ]
     },
     "execution_count": 49,
     "metadata": {},
     "output_type": "execute_result"
    }
   ],
   "source": [
    "index = pd.read_csv('./djia_index.csv')\n",
    "index.columns"
   ]
  },
  {
   "cell_type": "code",
   "execution_count": 56,
   "id": "8bb8582b",
   "metadata": {},
   "outputs": [
    {
     "data": {
      "text/plain": [
       "0.91"
      ]
     },
     "execution_count": 56,
     "metadata": {},
     "output_type": "execute_result"
    }
   ],
   "source": [
    "round(np.corrcoef(new_data[:,0],index['^DJI'])[1, 0], 2)"
   ]
  },
  {
   "cell_type": "code",
   "execution_count": 58,
   "id": "96aee66e",
   "metadata": {},
   "outputs": [],
   "source": [
    "with open('./2.txt', 'w') as f:\n",
    "    f.write(\"0.91\")\n",
    "f.close()"
   ]
  },
  {
   "cell_type": "markdown",
   "id": "03d59bdb",
   "metadata": {},
   "source": [
    "**5. Какая компания имеет наибольший вес в первой компоненте? Укажите ее название с большой буквы.**"
   ]
  },
  {
   "cell_type": "code",
   "execution_count": 76,
   "id": "87decdcc",
   "metadata": {},
   "outputs": [
    {
     "data": {
      "text/plain": [
       "'V'"
      ]
     },
     "execution_count": 76,
     "metadata": {},
     "output_type": "execute_result"
    }
   ],
   "source": [
    "data.columns.values[pca.components_[0].argmax()+1] # так как даты удалил!!!! дурак"
   ]
  },
  {
   "cell_type": "code",
   "execution_count": 78,
   "id": "59ae7388",
   "metadata": {},
   "outputs": [],
   "source": [
    "with open('./3.txt', 'w') as f:\n",
    "    f.write(data.columns.values[pca.components_[0].argmax()+1])\n",
    "f.close()"
   ]
  }
 ],
 "metadata": {
  "kernelspec": {
   "display_name": "Python 3 (ipykernel)",
   "language": "python",
   "name": "python3"
  },
  "language_info": {
   "codemirror_mode": {
    "name": "ipython",
    "version": 3
   },
   "file_extension": ".py",
   "mimetype": "text/x-python",
   "name": "python",
   "nbconvert_exporter": "python",
   "pygments_lexer": "ipython3",
   "version": "3.9.10"
  }
 },
 "nbformat": 4,
 "nbformat_minor": 5
}
