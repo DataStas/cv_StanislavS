{
 "cells": [
  {
   "cell_type": "markdown",
   "id": "feb44d2c",
   "metadata": {},
   "source": [
    "Метод опорных векторов (Support Vector Machine, SVM) — один из видов линейных классификаторов. Функционал, который он оптимизирует, направлен на максимизацию ширины разделяющей полосы между классами. Из теории статистического обучения известно, что эта ширина тесно связана с обобщающей способностью алгоритма, а ее максимизация позволяет бороться с переобучением.\n",
    "\n",
    "Метод опорных векторов имеет еще одну особенность. Если преобразовать его оптимизационную задачу, то окажется, что итоговый классификатор можно представить как взвешенную сумму скалярных произведений данного объекта на объекты обучающей выборки:\n",
    "\n",
    "\n",
    "По сути, алгоритм делает предсказания на основе сходства нового объекта с объектами обучающей выборки. При этом, как правило, далеко не все коэффициенты оказываются ненулевыми. Это означает, что классификация делается на основе сходства лишь с частью обучающих объектов. Такие объекты называются опорными."
   ]
  },
  {
   "cell_type": "markdown",
   "id": "fa81b666",
   "metadata": {},
   "source": [
    "Реализация в Scikit-Learn\n",
    "Метод опорных векторов реализован в классе sklearn.svm.SVC.\n",
    "\n",
    "Основными параметрами этого класса являются коэффициент С и тип ядра kernel. В данной задаче мы будем использовать линейное ядро — для этого нужно задать значение параметра kernel='linear'\n",
    "\n",
    "Индексы опорных объектов обученного классификатора хранятся в поле support_"
   ]
  },
  {
   "cell_type": "markdown",
   "id": "0c38417a",
   "metadata": {},
   "source": [
    "**1. Загрузите выборку из файла svm-data.csv. В нем записана двумерная выборка (целевая переменная указана в первом столбце, признаки — во втором и третьем).**"
   ]
  },
  {
   "cell_type": "code",
   "execution_count": 9,
   "id": "77af2cae",
   "metadata": {},
   "outputs": [],
   "source": [
    "import pandas as pd\n",
    "import numpy as np\n",
    "from sklearn.svm import SVC\n",
    "import matplotlib.pyplot as plt\n",
    "import matplotlib.lines as mlines\n",
    "\n",
    "\n",
    "def newline(p1, p2, color=None): # функция отрисовки линии\n",
    "    #function kredits to: https://fooobar.com/questions/626491/how-to-draw-a-line-with-matplotlib\n",
    "    ax = plt.gca()\n",
    "    xmin, xmax = ax.get_xbound()\n",
    "\n",
    "    if(p2[0] == p1[0]):\n",
    "        xmin = xmax = p1[0]\n",
    "        ymin, ymax = ax.get_ybound()\n",
    "    else:\n",
    "        ymax = p1[1]+(p2[1]-p1[1])/(p2[0]-p1[0])*(xmax-p1[0])\n",
    "        ymin = p1[1]+(p2[1]-p1[1])/(p2[0]-p1[0])*(xmin-p1[0])\n",
    "\n",
    "    l = mlines.Line2D([xmin,xmax], [ymin,ymax], color=color)\n",
    "    ax.add_line(l)\n",
    "    return l"
   ]
  },
  {
   "cell_type": "code",
   "execution_count": 2,
   "id": "1a3c7fe2",
   "metadata": {},
   "outputs": [],
   "source": [
    "data = pd.read_csv('../SVM/svm-data.csv', names=['target', 'feature1', 'feature2'])\n",
    "y = data['target']\n",
    "X = data.iloc[:,1:]"
   ]
  },
  {
   "cell_type": "markdown",
   "id": "8a74890a",
   "metadata": {},
   "source": [
    "**2. Обучите классификатор с линейным ядром, параметром C = 100000 и random_state=241. Такое значение параметра нужно использовать, чтобы убедиться, что SVM работает с выборкой как с линейно разделимой. При более низких значениях параметра алгоритм будет настраиваться с учетом слагаемого в функционале, штрафующего за маленькие отступы, из-за чего результат может не совпасть с решением классической задачи SVM для линейно разделимой выборки.**"
   ]
  },
  {
   "cell_type": "code",
   "execution_count": 3,
   "id": "cfb9fe4f",
   "metadata": {},
   "outputs": [
    {
     "data": {
      "text/plain": [
       "SVC(C=100000, kernel='linear', random_state=241)"
      ]
     },
     "execution_count": 3,
     "metadata": {},
     "output_type": "execute_result"
    }
   ],
   "source": [
    "svc_classifier = SVC(C=100000, random_state=241, kernel='linear')\n",
    "svc_classifier.fit(X=X, y=y)"
   ]
  },
  {
   "cell_type": "markdown",
   "id": "76832116",
   "metadata": {},
   "source": [
    "**3. Найдите номера объектов, которые являются опорными (нумерация с единицы). Они будут являться ответом на задание. Обратите внимание, что в качестве ответа нужно привести номера объектов в возрастающем порядке через запятую или пробел. Нумерация начинается с 1.**"
   ]
  },
  {
   "cell_type": "code",
   "execution_count": 4,
   "id": "25fc7a8d",
   "metadata": {},
   "outputs": [
    {
     "data": {
      "text/plain": [
       "array([ 4,  5, 10])"
      ]
     },
     "execution_count": 4,
     "metadata": {},
     "output_type": "execute_result"
    }
   ],
   "source": [
    "ans = svc_classifier.support_\n",
    "ans += 1\n",
    "ans"
   ]
  },
  {
   "cell_type": "code",
   "execution_count": 5,
   "id": "2852101f",
   "metadata": {},
   "outputs": [
    {
     "data": {
      "text/plain": [
       "array([[-10.4526212 ,  18.02446131]])"
      ]
     },
     "execution_count": 5,
     "metadata": {},
     "output_type": "execute_result"
    }
   ],
   "source": [
    "svc_classifier.coef_"
   ]
  },
  {
   "cell_type": "code",
   "execution_count": 25,
   "id": "8c9fadc6",
   "metadata": {},
   "outputs": [
    {
     "name": "stderr",
     "output_type": "stream",
     "text": [
      "C:\\Users\\Stanislav\\AppData\\Local\\Programs\\Python\\Python39\\lib\\site-packages\\sklearn\\base.py:450: UserWarning: X does not have valid feature names, but SVC was fitted with feature names\n",
      "  warnings.warn(\n"
     ]
    },
    {
     "data": {
      "image/png": "[encoded data removed]",
      "text/plain": [
       "<Figure size 432x288 with 1 Axes>"
      ]
     },
     "metadata": {},
     "output_type": "display_data"
    }
   ],
   "source": [
    "plt.style.use('ggplot')\n",
    "def draw_2D_svm(clf, x, y, target, labels=False):\n",
    "    xx, yy = np.meshgrid(np.linspace(x.min(), x.max(), 200),\n",
    "                         np.linspace(y.min(), y.max(), 200))\n",
    "    Z = clf.predict(np.c_[xx.ravel(), yy.ravel()])\n",
    "    Z = Z.reshape(xx.shape)\n",
    "\n",
    "    plt.contourf(xx, yy, Z, alpha=0.4)\n",
    "    plt.scatter(x, y, c=target, alpha=0.8)\n",
    "    if labels:\n",
    "        for i in data.index:\n",
    "            plt.annotate(i + 1, (x[i], y[i]))\n",
    "    plt.show()\n",
    "\n",
    "draw_2D_svm(svc_classifier, X['feature1'], X['feature2'], y, labels=True)"
   ]
  },
  {
   "cell_type": "code",
   "execution_count": null,
   "id": "7ec84f22",
   "metadata": {},
   "outputs": [],
   "source": []
  }
 ],
 "metadata": {
  "kernelspec": {
   "display_name": "Python 3 (ipykernel)",
   "language": "python",
   "name": "python3"
  },
  "language_info": {
   "codemirror_mode": {
    "name": "ipython",
    "version": 3
   },
   "file_extension": ".py",
   "mimetype": "text/x-python",
   "name": "python",
   "nbconvert_exporter": "python",
   "pygments_lexer": "ipython3",
   "version": "3.9.10"
  }
 },
 "nbformat": 4,
 "nbformat_minor": 5
}
