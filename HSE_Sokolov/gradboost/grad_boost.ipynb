{
 "cells": [
  {
   "attachments": {
    "image.png": {
     "image/png": "[encoded data removed]"
    }
   },
   "cell_type": "markdown",
   "id": "048d186a",
   "metadata": {},
   "source": [
    "Данное задание основано на материалах лекций по композициям алгоритмов.\n",
    "\n",
    "Вы научитесь: \n",
    "+ работать с градиентным бустингом и подбирать его гиперпараметры\n",
    "\n",
    "+ сравнивать разные способы построения композиций\n",
    "\n",
    "+ понимать, в каком случае лучше использовать случайный лес, а в каком — градиентный бустинг\n",
    "\n",
    "+ использовать метрику log-loss\n",
    "\n",
    "**Введение**\n",
    "Построение композиции — важный подход в машинном обучении, который позволяет объединять большое количество слабых алгоритмов в один сильный. Данный подход широко используется на практике в самых разных задачах.\n",
    "\n",
    "На лекциях был рассмотрен метод градиентного бустинга, который последовательно строит композицию алгоритмов, причем каждый следующий алгоритм выбирается так, чтобы исправлять ошибки уже имеющейся композиции. Обычно в качестве базовых алгоритмов используют деревья небольшой глубины, поскольку их достаточно легко строить, и при этом они дают нелинейные разделяющие поверхности.\n",
    "\n",
    "Другой метод построения композиций — случайный лес. В нем, в отличие от градиентного бустинга, отдельные деревья строятся независимо и без каких-либо ограничений на глубину — дерево наращивается до тех пор, пока не покажет наилучшее качество на обучающей выборке.\n",
    "\n",
    "В этом задании мы будем иметь дело с задачей классификации. В качестве функции потерь будем использовать log-loss:\n",
    "![image.png](attachment:image.png)\n",
    "Здесь через y обозначен истинный ответ, через z — прогноз алгоритма. Данная функция является дифференцируемой, и поэтому подходит для использования в градиентном бустинге. Также можно показать, что при ее использовании итоговый алгоритм будет приближать истинные вероятности классов.\n",
    "\n",
    "Реализация в sklearn\n",
    "В пакете scikit-learn градиентный бустинг реализован в модуле ensemble в виде классов GradientBoostingClassifier и GradientBoostingRegressor. Основные параметры, которые будут интересовать нас: n_estimators, learning_rate. Иногда может быть полезен параметр verbose для отслеживания процесса обучения.\n",
    "\n",
    "Чтобы была возможность оценить качество построенной композиции на каждой итерации, у класса есть метод staged_decision_function. Для заданной выборки он возвращает ответ на каждой итерации.\n",
    "\n",
    "Помимо алгоритмов машинного обучения, в пакете scikit-learn представлено большое число различных инструментов. В этом задании будет предложено воспользоваться функцией train_test_split модуля cross_validation. С помощью нее можно разбивать выборки случайным образом. На вход можно передать несколько выборок (с условием, что они имеют одинаковое количество строк). Пусть, например, имеются данные X и y, где X — это признаковое описание объектов, y — целевое значение. Тогда следующий код будет удобен для разбиения этих данных на обучающее и тестовое множества:"
   ]
  },
  {
   "cell_type": "code",
   "execution_count": null,
   "id": "9e6a7ae5",
   "metadata": {},
   "outputs": [],
   "source": [
    "X_train, X_test, y_train, y_test = \n",
    "                     train_test_split(X, y, \n",
    "                                      test_size=0.33, \n",
    "                                      random_state=42)"
   ]
  },
  {
   "cell_type": "markdown",
   "id": "6b551d0c",
   "metadata": {},
   "source": [
    "Обратите внимание, что при фиксированном параметре random_state результат разбиения можно воспроизвести.\n",
    "\n",
    "Метрика log-loss реализована в пакете metrics: sklearn.metrics.log_loss. Заметим, что данная метрика предназначена для классификаторов, выдающих оценку принадлежности классу, а не бинарные ответы. И градиентный бустинг, и случайный лес умеют строить такие прогнозы — для этого нужно использовать метод predict_proba:"
   ]
  },
  {
   "cell_type": "code",
   "execution_count": null,
   "id": "094df0a6",
   "metadata": {},
   "outputs": [],
   "source": [
    "pred = clf.predict_proba(X_test)"
   ]
  },
  {
   "cell_type": "markdown",
   "id": "b0d8c142",
   "metadata": {},
   "source": [
    "Метод predict_proba возвращает матрицу, i-й столбец которой содержит оценки принадлежности i-му классу. \n",
    "\n",
    "Для рисования кривых качества на обучении и контроле можно воспользоваться следующим кодом:"
   ]
  },
  {
   "cell_type": "code",
   "execution_count": null,
   "id": "3719b025",
   "metadata": {},
   "outputs": [],
   "source": [
    "import matplotlib.pyplot as plt\n",
    "%matplotlib inline\n",
    "plt.figure()\n",
    "plt.plot(test_loss, 'r', linewidth=2)\n",
    "plt.plot(train_loss, 'g', linewidth=2)\n",
    "plt.legend(['test', 'train'])"
   ]
  },
  {
   "cell_type": "markdown",
   "id": "4050f168",
   "metadata": {},
   "source": [
    "https://github.com/esokolov/ml-course-hse/blob/master/2016-fall/lecture-notes/lecture09-ensembles.pdf"
   ]
  },
  {
   "cell_type": "markdown",
   "id": "ed2b7d33",
   "metadata": {},
   "source": [
    "**1. Загрузите выборку из файла gbm-data.csv с помощью pandas и преобразуйте ее в массив numpy (параметр values у датафрейма). В первой колонке файла с данными записано, была или нет реакция. Все остальные колонки (d1 - d1776) содержат различные характеристики молекулы, такие как размер, форма и т.д. Разбейте выборку на обучающую и тестовую, используя функцию train_test_split с параметрами test_size = 0.8 и random_state = 241.**"
   ]
  },
  {
   "cell_type": "code",
   "execution_count": 53,
   "id": "96bdc937",
   "metadata": {},
   "outputs": [],
   "source": [
    "import pandas as pd\n",
    "import numpy as np\n",
    "import matplotlib.pyplot as plt\n",
    "from sklearn.model_selection import train_test_split\n",
    "from sklearn.model_selection import cross_val_score\n",
    "from sklearn.ensemble import GradientBoostingClassifier\n",
    "from sklearn.metrics import log_loss\n",
    "from typing import List, Tuple\n",
    "from sklearn.ensemble import RandomForestClassifier"
   ]
  },
  {
   "cell_type": "code",
   "execution_count": 3,
   "id": "e03b72b4",
   "metadata": {},
   "outputs": [],
   "source": [
    "data = pd.read_csv('./gbm-data.csv')"
   ]
  },
  {
   "cell_type": "code",
   "execution_count": 11,
   "id": "5cedba2f",
   "metadata": {},
   "outputs": [],
   "source": [
    "y = data['Activity'].values\n",
    "X = data.iloc[:,1:].values\n",
    "X_train, X_test, y_train, y_test = train_test_split(X, y, test_size=0.8, random_state=241)"
   ]
  },
  {
   "cell_type": "markdown",
   "id": "0e46771e",
   "metadata": {},
   "source": [
    "**2.Обучите GradientBoostingClassifier с параметрами n_estimators=250, verbose=True, random_state=241 и для каждого значения learning_rate из списка [1, 0.5, 0.3, 0.2, 0.1] проделайте следующее:**"
   ]
  },
  {
   "cell_type": "markdown",
   "id": "c4cb8a81",
   "metadata": {},
   "source": [
    "\n",
    "\n",
    "+ Преобразуйте полученное предсказание с помощью сигмоидной функции по формуле 1 / (1 + e^{−y_pred}), где y_pred — предсказанное значение."
   ]
  },
  {
   "cell_type": "code",
   "execution_count": 23,
   "id": "ca3cb2e3",
   "metadata": {},
   "outputs": [],
   "source": [
    "def sigmoid(y_pred: np.array) -> np.array:\n",
    "    return 1.0 / (1.0 + np.exp(-y_pred))"
   ]
  },
  {
   "cell_type": "markdown",
   "id": "cf6a2cc3",
   "metadata": {},
   "source": [
    "+ Используйте метод staged_decision_function для предсказания качества на обучающей и тестовой выборке на каждой итерации."
   ]
  },
  {
   "cell_type": "code",
   "execution_count": 22,
   "id": "03fd9426",
   "metadata": {},
   "outputs": [],
   "source": [
    "def log_loss_results(model, X: np.array, y: np.array) -> List[float]:\n",
    "    return [log_loss(y, sigmoid(y_pred)) for y_pred in model.staged_decision_function(X)]"
   ]
  },
  {
   "cell_type": "markdown",
   "id": "31ef53a1",
   "metadata": {},
   "source": [
    "\n",
    "+ Вычислите и постройте график значений log-loss (которую можно посчитать с помощью функции sklearn.metrics.log_loss) на обучающей и тестовой выборках, а также найдите минимальное значение метрики и номер итерации, на которой оно достигается."
   ]
  },
  {
   "cell_type": "code",
   "execution_count": 32,
   "id": "54642ff3",
   "metadata": {},
   "outputs": [],
   "source": [
    "def print_los(test_loss,train_loss):\n",
    "    plt.figure()\n",
    "    plt.plot(test_loss, 'r', linewidth=2)\n",
    "    plt.plot(train_loss, 'g', linewidth=2)\n",
    "    plt.xlabel('iter')\n",
    "    plt.ylabel('Loss')\n",
    "    plt.legend(['test', 'train'])\n",
    "    plt.show()"
   ]
  },
  {
   "cell_type": "code",
   "execution_count": 33,
   "id": "eca79f44",
   "metadata": {},
   "outputs": [
    {
     "name": "stdout",
     "output_type": "stream",
     "text": [
      "Learning rate: 1\n",
      "      Iter       Train Loss   Remaining Time \n",
      "         1           1.0190            7.70s\n",
      "         2           0.9192            7.42s\n",
      "         3           0.8272            7.39s\n",
      "         4           0.7834            7.30s\n",
      "         5           0.7109            7.23s\n",
      "         6           0.6368            7.14s\n",
      "         7           0.5797            7.13s\n",
      "         8           0.5610            7.09s\n",
      "         9           0.5185            7.02s\n",
      "        10           0.4984            6.97s\n",
      "        20           0.1999            6.62s\n",
      "        30           0.1313            6.33s\n",
      "        40           0.0790            6.07s\n",
      "        50           0.0511            5.85s\n",
      "        60           0.0352            5.58s\n",
      "        70           0.0245            5.30s\n",
      "        80           0.0162            5.02s\n",
      "        90           0.0114            4.72s\n",
      "       100           0.0077            4.43s\n",
      "       200           0.0002            1.45s\n"
     ]
    },
    {
     "data": {
      "image/png": "[encoded data removed]",
      "text/plain": [
       "<Figure size 432x288 with 1 Axes>"
      ]
     },
     "metadata": {
      "needs_background": "light"
     },
     "output_type": "display_data"
    },
    {
     "name": "stdout",
     "output_type": "stream",
     "text": [
      "Learning rate: 0.5\n",
      "      Iter       Train Loss   Remaining Time \n",
      "         1           1.1255            7.95s\n",
      "         2           1.0035            7.54s\n",
      "         3           0.9386            7.39s\n",
      "         4           0.8844            7.30s\n",
      "         5           0.8381            7.28s\n",
      "         6           0.7995            7.18s\n",
      "         7           0.7559            7.13s\n",
      "         8           0.7205            7.12s\n",
      "         9           0.6958            7.08s\n",
      "        10           0.6725            7.01s\n",
      "        20           0.4672            6.85s\n",
      "        30           0.3179            6.51s\n",
      "        40           0.2274            6.20s\n",
      "        50           0.1774            5.85s\n",
      "        60           0.1394            5.55s\n",
      "        70           0.1050            5.23s\n",
      "        80           0.0805            4.92s\n",
      "        90           0.0650            4.62s\n",
      "       100           0.0511            4.34s\n",
      "       200           0.0058            1.46s\n"
     ]
    },
    {
     "data": {
      "image/png": "[encoded data removed]",
      "text/plain": [
       "<Figure size 432x288 with 1 Axes>"
      ]
     },
     "metadata": {
      "needs_background": "light"
     },
     "output_type": "display_data"
    },
    {
     "name": "stdout",
     "output_type": "stream",
     "text": [
      "Learning rate: 0.3\n",
      "      Iter       Train Loss   Remaining Time \n",
      "         1           1.2095            7.20s\n",
      "         2           1.1006            7.05s\n",
      "         3           1.0240            6.98s\n",
      "         4           0.9729            6.93s\n",
      "         5           0.9387            6.89s\n",
      "         6           0.8948            6.85s\n",
      "         7           0.8621            6.82s\n",
      "         8           0.8360            6.82s\n",
      "         9           0.8171            6.84s\n",
      "        10           0.7883            6.82s\n",
      "        20           0.6029            6.57s\n",
      "        30           0.4760            6.26s\n",
      "        40           0.3879            6.03s\n",
      "        50           0.3325            5.76s\n",
      "        60           0.2759            5.50s\n",
      "        70           0.2304            5.31s\n",
      "        80           0.1969            5.00s\n",
      "        90           0.1718            4.69s\n",
      "       100           0.1404            4.38s\n",
      "       200           0.0358            1.44s\n"
     ]
    },
    {
     "data": {
      "image/png": "[encoded data removed]",
      "text/plain": [
       "<Figure size 432x288 with 1 Axes>"
      ]
     },
     "metadata": {
      "needs_background": "light"
     },
     "output_type": "display_data"
    },
    {
     "name": "stdout",
     "output_type": "stream",
     "text": [
      "Learning rate: 0.2\n",
      "      Iter       Train Loss   Remaining Time \n",
      "         1           1.2613            6.95s\n",
      "         2           1.1715            6.93s\n",
      "         3           1.1009            6.90s\n",
      "         4           1.0529            6.93s\n",
      "         5           1.0130            6.89s\n",
      "         6           0.9740            6.85s\n",
      "         7           0.9475            6.82s\n",
      "         8           0.9197            6.79s\n",
      "         9           0.8979            6.76s\n",
      "        10           0.8730            6.73s\n",
      "        20           0.7207            6.45s\n",
      "        30           0.6055            6.22s\n",
      "        40           0.5244            5.94s\n",
      "        50           0.4501            5.65s\n",
      "        60           0.3908            5.38s\n",
      "        70           0.3372            5.14s\n",
      "        80           0.3009            4.84s\n",
      "        90           0.2603            4.55s\n",
      "       100           0.2327            4.26s\n",
      "       200           0.0835            1.42s\n"
     ]
    },
    {
     "data": {
      "image/png": "[encoded data removed]",
      "text/plain": [
       "<Figure size 432x288 with 1 Axes>"
      ]
     },
     "metadata": {
      "needs_background": "light"
     },
     "output_type": "display_data"
    },
    {
     "name": "stdout",
     "output_type": "stream",
     "text": [
      "Learning rate: 0.1\n",
      "      Iter       Train Loss   Remaining Time \n",
      "         1           1.3199            6.95s\n",
      "         2           1.2645            7.05s\n",
      "         3           1.2170            7.06s\n",
      "         4           1.1775            6.99s\n",
      "         5           1.1404            6.94s\n",
      "         6           1.1106            6.94s\n",
      "         7           1.0844            6.89s\n",
      "         8           1.0617            6.88s\n",
      "         9           1.0411            6.84s\n",
      "        10           1.0223            6.80s\n",
      "        20           0.8864            6.50s\n",
      "        30           0.7844            6.22s\n",
      "        40           0.7176            5.95s\n",
      "        50           0.6590            5.66s\n",
      "        60           0.6120            5.38s\n",
      "        70           0.5599            5.13s\n",
      "        80           0.5242            4.87s\n",
      "        90           0.4829            4.62s\n",
      "       100           0.4473            4.37s\n",
      "       200           0.2379            1.48s\n"
     ]
    },
    {
     "data": {
      "image/png": "[encoded data removed]",
      "text/plain": [
       "<Figure size 432x288 with 1 Axes>"
      ]
     },
     "metadata": {
      "needs_background": "light"
     },
     "output_type": "display_data"
    }
   ],
   "source": [
    "min_log_loss\n",
    "for rate in [1, 0.5, 0.3, 0.2, 0.1]:\n",
    "    print(f\"Learning rate: {rate}\")\n",
    "    \n",
    "    gradboost = GradientBoostingClassifier(n_estimators=250, verbose=True, random_state=241, learning_rate=rate)\n",
    "    gradboost.fit(X_train,y_train)\n",
    "    \n",
    "    train_loss = log_loss_results(gradboost, X_train, y_train)\n",
    "    test_loss = log_loss_results(gradboost, X_test, y_test)\n",
    "    print_los(test_loss, train_loss)"
   ]
  },
  {
   "cell_type": "markdown",
   "id": "c6c16242",
   "metadata": {},
   "source": [
    "**3. Как можно охарактеризовать график качества на тестовой выборке, начиная с некоторой итерации: переобучение (overfitting) или недообучение (underfitting)? В ответе укажите одно из слов overfitting либо underfitting.**"
   ]
  },
  {
   "cell_type": "code",
   "execution_count": 75,
   "id": "780bb0aa",
   "metadata": {},
   "outputs": [],
   "source": [
    "with open('./1.txt', 'w') as f:\n",
    "    f.write(\"overfitting\")\n",
    "f.close()"
   ]
  },
  {
   "cell_type": "markdown",
   "id": "a2949fd8",
   "metadata": {},
   "source": [
    "**4. Приведите минимальное значение log-loss на тестовой выборке и номер итерации, на котором оно достигается, при learning_rate = 0.2.**"
   ]
  },
  {
   "cell_type": "code",
   "execution_count": 66,
   "id": "b9e392bb",
   "metadata": {},
   "outputs": [
    {
     "name": "stdout",
     "output_type": "stream",
     "text": [
      "      Iter       Train Loss   Remaining Time \n",
      "         1           1.2613            7.95s\n",
      "         2           1.1715            7.67s\n",
      "         3           1.1009            7.55s\n",
      "         4           1.0529            7.48s\n",
      "         5           1.0130            7.38s\n",
      "         6           0.9740            7.30s\n",
      "         7           0.9475            7.31s\n",
      "         8           0.9197            7.24s\n",
      "         9           0.8979            7.16s\n",
      "        10           0.8730            7.11s\n",
      "        20           0.7207            6.86s\n",
      "        30           0.6055            6.50s\n",
      "        40           0.5244            6.24s\n",
      "        50           0.4501            5.93s\n",
      "        60           0.3908            5.61s\n",
      "        70           0.3372            5.33s\n",
      "        80           0.3009            5.04s\n",
      "        90           0.2603            4.74s\n",
      "       100           0.2327            4.44s\n",
      "       200           0.0835            1.47s\n"
     ]
    },
    {
     "data": {
      "text/plain": [
       "GradientBoostingClassifier(learning_rate=0.2, n_estimators=250,\n",
       "                           random_state=241, verbose=True)"
      ]
     },
     "execution_count": 66,
     "metadata": {},
     "output_type": "execute_result"
    }
   ],
   "source": [
    "gradboost = GradientBoostingClassifier(n_estimators=250, verbose=True, random_state=241, learning_rate=0.2)\n",
    "gradboost.fit(X_train,y_train)"
   ]
  },
  {
   "cell_type": "code",
   "execution_count": 64,
   "id": "bb35f589",
   "metadata": {},
   "outputs": [
    {
     "data": {
      "text/plain": [
       "0.6574280694152926"
      ]
     },
     "execution_count": 64,
     "metadata": {},
     "output_type": "execute_result"
    }
   ],
   "source": [
    "y_pred = gradboost.predict_proba(X_test)[:,1]\n",
    "log_loss(y_true=y_test, y_pred=y_pred)"
   ]
  },
  {
   "cell_type": "code",
   "execution_count": 67,
   "id": "98ac7081",
   "metadata": {},
   "outputs": [
    {
     "data": {
      "text/plain": [
       "36    0.530165\n",
       "dtype: float64"
      ]
     },
     "execution_count": 67,
     "metadata": {},
     "output_type": "execute_result"
    }
   ],
   "source": [
    "test_loss = log_loss_results(gradboost, X=X_test, y=y_test)\n",
    "test_loss = pd.Series(test_loss)\n",
    "test_loss[test_loss == test_loss.min()]"
   ]
  },
  {
   "cell_type": "code",
   "execution_count": 74,
   "id": "0033100c",
   "metadata": {},
   "outputs": [
    {
     "data": {
      "text/plain": [
       "249    0.657428\n",
       "dtype: float64"
      ]
     },
     "execution_count": 74,
     "metadata": {},
     "output_type": "execute_result"
    }
   ],
   "source": [
    "test_loss.iloc[-1:]"
   ]
  },
  {
   "cell_type": "code",
   "execution_count": 76,
   "id": "655e94fd",
   "metadata": {},
   "outputs": [],
   "source": [
    "with open('./2.txt', 'w') as f:\n",
    "    f.write(\"0.53 37\")\n",
    "f.close()"
   ]
  },
  {
   "cell_type": "markdown",
   "id": "dff19d9f",
   "metadata": {},
   "source": [
    "**6. 5. На этих же данных обучите RandomForestClassifier с количеством деревьев, равным количеству итераций, на котором достигается наилучшее качество у градиентного бустинга из предыдущего пункта, c random_state=241 и остальными параметрами по умолчанию. Какое значение log-loss на тесте получается у этого случайного леса? (Не забывайте, что предсказания нужно получать с помощью функции predict_proba. В данном случае брать сигмоиду от оценки вероятности класса не нужно)**"
   ]
  },
  {
   "cell_type": "code",
   "execution_count": 57,
   "id": "0e3ff119",
   "metadata": {},
   "outputs": [
    {
     "data": {
      "text/plain": [
       "0.5410941951182815"
      ]
     },
     "execution_count": 57,
     "metadata": {},
     "output_type": "execute_result"
    }
   ],
   "source": [
    "gradboost = RandomForestClassifier(n_estimators=37, random_state=241)\n",
    "gradboost.fit(X_train, y_train)\n",
    "\n",
    "y_pred = gradboost.predict_proba(X_test)[:, 1]\n",
    "test_loss = log_loss(y_test, y_pred)\n",
    "test_loss"
   ]
  },
  {
   "cell_type": "code",
   "execution_count": 60,
   "id": "ffb9a174",
   "metadata": {},
   "outputs": [],
   "source": [
    "with open('./3.txt', 'w') as f:\n",
    "    f.write(\"0.54\")\n",
    "f.close()"
   ]
  }
 ],
 "metadata": {
  "kernelspec": {
   "display_name": "Python 3 (ipykernel)",
   "language": "python",
   "name": "python3"
  },
  "language_info": {
   "codemirror_mode": {
    "name": "ipython",
    "version": 3
   },
   "file_extension": ".py",
   "mimetype": "text/x-python",
   "name": "python",
   "nbconvert_exporter": "python",
   "pygments_lexer": "ipython3",
   "version": "3.9.10"
  }
 },
 "nbformat": 4,
 "nbformat_minor": 5
}
