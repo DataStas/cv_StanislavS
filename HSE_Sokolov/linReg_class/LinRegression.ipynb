{
 "cells": [
  {
   "cell_type": "markdown",
   "id": "1e154a9a",
   "metadata": {},
   "source": [
    "Введение\n",
    "Логистическая регрессия — один из видов линейных классификаторов. Одной из ее особенностей является возможность оценивания вероятностей классов, тогда как большинство линейных классификаторов могут выдавать только номера классов. \n",
    "\n",
    "Логистическая регрессия использует достаточно сложный функционал качества, который не допускает записи решения в явном виде (в отличие от, например, линейной регрессии). Тем не менее, логистическую регрессию можно настраивать с помощью градиентного спуска.\n",
    "\n",
    "Мы будем работать с выборкой, содержащей два признака. Будем считать, что ответы лежат в множестве {-1, 1}. Для настройки логистической регрессии мы будем решать следующую задачу:"
   ]
  },
  {
   "attachments": {
    "image.png": {
     "image/png": "[encoded data removed]"
    }
   },
   "cell_type": "markdown",
   "id": "edc876e0",
   "metadata": {},
   "source": [
    "![image.png](attachment:image.png)"
   ]
  },
  {
   "cell_type": "markdown",
   "id": "e65a3ea1",
   "metadata": {},
   "source": [
    "Здесь xi1 и xi2 — значение первого и второго признаков соответственно на объекте xi. В этом задании мы будем рассматривать алгоритмы без свободного члена, чтобы упростить работу.\n",
    "\n",
    "Градиентный шаг для весов будет заключаться в одновременном обновлении весов w1 и w2 по следующим формулам (проверьте сами, что здесь действительно выписана производная нашего функционала):"
   ]
  },
  {
   "attachments": {
    "image.png": {
     "image/png": "[encoded data removed]"
    }
   },
   "cell_type": "markdown",
   "id": "97fdadaf",
   "metadata": {},
   "source": [
    "![image.png](attachment:image.png)"
   ]
  },
  {
   "cell_type": "markdown",
   "id": "4b3f6caf",
   "metadata": {},
   "source": [
    "Здесь k — размер шага. \n",
    "\n",
    "Линейные методы могут переобучаться и давать плохое качество из-за различных проблем в данных: мультиколлинеарности, зашумленности и т.д. Чтобы избежать этого, следует использовать регуляризацию — она позволяет понизить сложность модели и не допустить переобучения. Сила регуляризации определяется коэффициентом C в формулах, указанных выше.\n",
    "\n",
    "Реализация в Scikit-Learn\n",
    "В этом задании мы предлагаем вам самостоятельно реализовать градиентный спуск. \n",
    "\n",
    "В качестве метрики качества будем использовать AUC-ROC (Area Under ROC-Curve). Она предназначена для алгоритмов бинарной классификации, выдающих оценку принадлежности объекта к одному из классов. По сути, значение этой метрики является агрегацией показателей качества всех алгоритмов, которые можно получить, выбирая какой-либо порог для оценки принадлежности.\n",
    "\n",
    "В Scikit-Learn метрика AUC реализована функцией sklearn.metrics.roc_auc_score. В качестве первого аргумента ей передается вектор истинных ответов, в качестве второго — вектор с оценками принадлежности объектов к первому классу."
   ]
  },
  {
   "cell_type": "markdown",
   "id": "df51e1fb",
   "metadata": {},
   "source": [
    "Материалы\n",
    "Подробнее о логистической регрессии и предсказании вероятностей с ее помощью\n",
    "https://github.com/esokolov/ml-course-hse/blob/master/2016-fall/lecture-notes/lecture05-linclass.pdf\n",
    "Подробнее о градиентах и градиентном спуске\n",
    "https://github.com/esokolov/ml-course-hse/blob/master/2016-fall/lecture-notes/lecture02-linregr.pdf"
   ]
  },
  {
   "cell_type": "markdown",
   "id": "1f7378be",
   "metadata": {},
   "source": [
    "**1. Загрузите данные из файла data-logistic.csv. Это двумерная выборка, целевая переменная на которой принимает значения -1 или 1.**"
   ]
  },
  {
   "cell_type": "code",
   "execution_count": 1,
   "id": "214b78c4",
   "metadata": {},
   "outputs": [],
   "source": [
    "import numpy as np\n",
    "import pandas as pd\n",
    "from sklearn.metrics import roc_auc_score\n",
    "from typing import Tuple"
   ]
  },
  {
   "cell_type": "code",
   "execution_count": 2,
   "id": "ead9b290",
   "metadata": {},
   "outputs": [],
   "source": [
    "data = pd.read_csv('../linReg/data-logistic.csv', names=['feature1', 'feature2'])"
   ]
  },
  {
   "cell_type": "code",
   "execution_count": 11,
   "id": "cf1f312f",
   "metadata": {},
   "outputs": [],
   "source": [
    "data['target'] = data.index"
   ]
  },
  {
   "cell_type": "code",
   "execution_count": 15,
   "id": "8ddb7859",
   "metadata": {},
   "outputs": [],
   "source": [
    "y = data.index\n",
    "X = data.iloc[:,0:2]\n",
    "X.index = range(0, len(X.values))"
   ]
  },
  {
   "cell_type": "code",
   "execution_count": 3,
   "id": "17a78eab",
   "metadata": {},
   "outputs": [],
   "source": [
    "data = pd.read_csv(\"data-logistic.csv\", header=None)\n",
    "y = data[0]\n",
    "X = data.loc[:, 1:]"
   ]
  },
  {
   "cell_type": "markdown",
   "id": "032cb57a",
   "metadata": {},
   "source": [
    "**2. Убедитесь, что выше выписаны правильные формулы для градиентного спуска. Обратите внимание, что мы используем полноценный градиентный спуск, а не его стохастический вариант!**"
   ]
  },
  {
   "cell_type": "markdown",
   "id": "b9339b97",
   "metadata": {},
   "source": [
    "**3. Реализуйте градиентный спуск для обычной и L2-регуляризованной (с коэффициентом регуляризации 10) логистической регрессии. Используйте длину шага k=0.1. В качестве начального приближения используйте вектор (0, 0).**"
   ]
  },
  {
   "cell_type": "code",
   "execution_count": 4,
   "id": "5c1d01de",
   "metadata": {},
   "outputs": [],
   "source": [
    "def calc_w1(X: pd.DataFrame, y: pd.Series, w1: float, w2: float, k: float, C: float) -> float:\n",
    "    S = 0\n",
    "    l = len(y)\n",
    "    for i in range(0, l):\n",
    "        S += y[i] * X[1][i] * (1.0 - 1.0 / (1.0 + np.exp(-y[i] * (w1*X[1][i] + w2*X[2][i]))))\n",
    "\n",
    "    return w1 + (k * (1.0 / l) * S) - k * C * w1\n",
    "\n",
    "def calc_w2(X: pd.DataFrame, y: pd.Series, w1: float, w2: float, k: float, C: float) -> float:\n",
    "    S = 0\n",
    "    l = len(y)\n",
    "    for i in range(0, l):\n",
    "        S += y[i] * X[2][i] * (1.0 - 1.0 / (1.0 + np.exp(-y[i] * (w1*X[1][i] + w2*X[2][i]))))\n",
    "\n",
    "    return w2 + (k * (1.0 / l) * S) - k * C * w2"
   ]
  },
  {
   "cell_type": "code",
   "execution_count": 5,
   "id": "e6e5dbf2",
   "metadata": {},
   "outputs": [],
   "source": [
    "def gradient_descent(X: pd.DataFrame, y: pd.Series, w1: float=0.0, w2: float=0.0,\n",
    "         k: float=0.1, C: float=0.0, precision: float=1e-5, max_iter: int=10000) -> Tuple[float, float]:\n",
    "    for i in range(max_iter):\n",
    "        w1_prev, w2_prev = w1, w2\n",
    "        w1, w2 = calc_w1(X, y, w1, w2, k, C), calc_w2(X, y, w1, w2, k, C)\n",
    "        if np.sqrt((w1_prev - w1) ** 2 + (w2_prev - w2) ** 2) <= precision:\n",
    "            break\n",
    "    print(i)\n",
    "    return w1, w2"
   ]
  },
  {
   "cell_type": "markdown",
   "id": "b42a2d20",
   "metadata": {},
   "source": [
    "**4. Запустите градиентный спуск и доведите до сходимости (евклидово расстояние между векторами весов на соседних итерациях должно быть не больше 1e-5). Рекомендуется ограничить сверху число итераций десятью тысячами.**"
   ]
  },
  {
   "cell_type": "code",
   "execution_count": 6,
   "id": "6946a66c",
   "metadata": {},
   "outputs": [
    {
     "name": "stdout",
     "output_type": "stream",
     "text": [
      "243\n",
      "7\n"
     ]
    }
   ],
   "source": [
    "w1, w2 = gradient_descent(X, y)\n",
    "w1_reg, w2_reg = gradient_descent(X, y, C=10.0)"
   ]
  },
  {
   "cell_type": "markdown",
   "id": "b1dfb752",
   "metadata": {},
   "source": [
    "**5. Какое значение принимает AUC-ROC на обучении без регуляризации и при ее использовании? Эти величины будут ответом на задание. В качестве ответа приведите два числа через пробел. Обратите внимание, что на вход функции roc_auc_score нужно подавать оценки вероятностей, подсчитанные обученным алгоритмом. Для этого воспользуйтесь сигмоидной функцией: a(x) = 1 / (1 + exp(-w1 x1 - w2 x2)).**"
   ]
  },
  {
   "cell_type": "code",
   "execution_count": 7,
   "id": "e27beae0",
   "metadata": {},
   "outputs": [],
   "source": [
    "def a(X: pd.DataFrame, w1: float, w2: float) -> pd.Series:\n",
    "    return 1.0 / (1.0 + np.exp(-w1 * X[1] - w2 * X[2]))"
   ]
  },
  {
   "cell_type": "code",
   "execution_count": 8,
   "id": "a3c99217",
   "metadata": {},
   "outputs": [
    {
     "data": {
      "text/plain": [
       "(0.9268571428571428, 0.9362857142857142)"
      ]
     },
     "execution_count": 8,
     "metadata": {},
     "output_type": "execute_result"
    }
   ],
   "source": [
    "y_proba = a(X, w1, w2)\n",
    "y_proba_reg = a(X, w1_reg, w2_reg)\n",
    "\n",
    "auc = roc_auc_score(y, y_proba)\n",
    "auc_reg = roc_auc_score(y, y_proba_reg)\n",
    "\n",
    "auc, auc_reg"
   ]
  },
  {
   "cell_type": "markdown",
   "id": "41757f7d",
   "metadata": {},
   "source": [
    "**6. Попробуйте поменять длину шага. Будет ли сходиться алгоритм, если делать более длинные шаги? Как меняется число итераций при уменьшении длины шага?**"
   ]
  },
  {
   "cell_type": "code",
   "execution_count": 34,
   "id": "faf92d9e",
   "metadata": {},
   "outputs": [
    {
     "name": "stdout",
     "output_type": "stream",
     "text": [
      "9999\n"
     ]
    }
   ],
   "source": [
    "np.seterr('ignore')\n",
    "w1_reg, w2_reg = gradient_descent(X, y, C=5.0, k=0.5)"
   ]
  },
  {
   "cell_type": "code",
   "execution_count": 26,
   "id": "1208bc93",
   "metadata": {},
   "outputs": [
    {
     "name": "stdout",
     "output_type": "stream",
     "text": [
      "8\n"
     ]
    }
   ],
   "source": [
    "w1_reg, w2_reg = gradient_descent(X, y, C=5.0, k=0.11)"
   ]
  },
  {
   "cell_type": "code",
   "execution_count": 28,
   "id": "08815f77",
   "metadata": {},
   "outputs": [
    {
     "name": "stdout",
     "output_type": "stream",
     "text": [
      "7\n"
     ]
    }
   ],
   "source": [
    "w1_reg, w2_reg = gradient_descent(X, y, C=5.0, k=0.12)"
   ]
  },
  {
   "cell_type": "code",
   "execution_count": 30,
   "id": "adaef135",
   "metadata": {},
   "outputs": [
    {
     "name": "stdout",
     "output_type": "stream",
     "text": [
      "18\n"
     ]
    }
   ],
   "source": [
    "w1_reg, w2_reg = gradient_descent(X, y, C=5.0, k=0.05)"
   ]
  },
  {
   "cell_type": "code",
   "execution_count": 21,
   "id": "3f4289ea",
   "metadata": {},
   "outputs": [
    {
     "name": "stdout",
     "output_type": "stream",
     "text": [
      "82\n"
     ]
    }
   ],
   "source": [
    "w1_reg, w2_reg = gradient_descent(X, y, C=5.0, k=0.01)"
   ]
  },
  {
   "cell_type": "code",
   "execution_count": 33,
   "id": "32d21f70",
   "metadata": {},
   "outputs": [
    {
     "data": {
      "text/plain": [
       "0.9362857142857142"
      ]
     },
     "execution_count": 33,
     "metadata": {},
     "output_type": "execute_result"
    }
   ],
   "source": [
    "auc_reg = roc_auc_score(y, y_proba_reg)\n",
    "auc_reg"
   ]
  },
  {
   "cell_type": "code",
   "execution_count": null,
   "id": "0e3a0053",
   "metadata": {},
   "outputs": [],
   "source": []
  }
 ],
 "metadata": {
  "kernelspec": {
   "display_name": "Python 3 (ipykernel)",
   "language": "python",
   "name": "python3"
  },
  "language_info": {
   "codemirror_mode": {
    "name": "ipython",
    "version": 3
   },
   "file_extension": ".py",
   "mimetype": "text/x-python",
   "name": "python",
   "nbconvert_exporter": "python",
   "pygments_lexer": "ipython3",
   "version": "3.9.10"
  }
 },
 "nbformat": 4,
 "nbformat_minor": 5
}
