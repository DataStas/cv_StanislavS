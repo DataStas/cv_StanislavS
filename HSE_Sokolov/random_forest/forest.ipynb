{
 "cells": [
  {
   "cell_type": "markdown",
   "id": "6c133d03",
   "metadata": {},
   "source": [
    "Введение\n",
    "Случайный лес — это модель классификации, объединяющая некоторое количество решающих деревьев в одну композицию, за счет чего улучшается их качество работы и обобщающая способность. Деревья строятся независимо друг от друга. Чтобы они отличались друг от друга, обучение проводится не на всей обучающей выборке, а на ее случайном подмножестве. Также, для дальнейшего уменьшения схожести деревьев, оптимальный признак для разбиения выбирается не из всех возможных признаков, а лишь из их случайного подмножества. Прогнозы, выданные деревьями, объединяются в один ответ путем усреднения.\n",
    "\n",
    "Особенность случайного леса заключается в том, что он не переобучается по мере увеличения количества деревьев в композиции. Это достигается за счет того, что деревья не зависят друг от друга, и поэтому добавление нового дерева в композицию не усложняет модель, а лишь понижает уровень шума в прогнозах.\n",
    "\n",
    "Реализация в Scikit-Learn\n",
    "В библиотеке scikit-learn случайные леса реализованы в классах sklearn.ensemble.RandomForestClassifier (для классификации) и sklearn.ensemble.RandomForestRegressor (для регрессии). Обучение модели производится с помощью функции fit, построение прогнозов — с помощью функции predict. Число деревьев задается с помощью поля класса n_estimators. \n",
    "\n",
    "Пример использования:"
   ]
  },
  {
   "cell_type": "code",
   "execution_count": null,
   "id": "7221a9f4",
   "metadata": {},
   "outputs": [],
   "source": [
    "import numpy as np\n",
    "from sklearn.ensemble import RandomForestRegressor\n",
    "X = np.array([[1, 2], [3, 4], [5, 6]])\n",
    "y = np.array([-3, 1, 10])\n",
    "clf = RandomForestRegressor(n_estimators=100)\n",
    "clf.fit(X, y)\n",
    "predictions = clf.predict(X)"
   ]
  },
  {
   "cell_type": "markdown",
   "id": "7ac24dbf",
   "metadata": {},
   "source": [
    "Также в этом задании вам понадобится вычислять качество предсказаний на тестовой выборке. Мы будем пользоваться метрикой R2 — по сути, это среднеквадратичная ошибка (MSE), нормированная на отрезок [0, 1] и обращенная так, чтобы ее наилучшим значением была единица. Ее можно вычислить с помощью функции sklearn.metrics.r2_score. Первым аргументов является список правильных ответов на выборке, вторым — список предсказанных ответов. Пример использования:"
   ]
  },
  {
   "cell_type": "code",
   "execution_count": null,
   "id": "8eb88a31",
   "metadata": {},
   "outputs": [],
   "source": [
    "from sklearn.metrics import r2_score\n",
    "print r2_score([10, 11, 12], [9, 11, 12.1])"
   ]
  },
  {
   "cell_type": "markdown",
   "id": "4ce08be0",
   "metadata": {},
   "source": [
    "**1. Загрузите данные из файла abalone.csv. Это датасет, в котором требуется предсказать возраст ракушки (число колец) по физическим измерениям.**"
   ]
  },
  {
   "cell_type": "code",
   "execution_count": 28,
   "id": "4fcd195d",
   "metadata": {},
   "outputs": [],
   "source": [
    "import numpy as np\n",
    "import pandas as pd\n",
    "from sklearn.ensemble import RandomForestRegressor\n",
    "from sklearn.model_selection import KFold\n",
    "from sklearn.metrics import r2_score\n",
    "from sklearn.model_selection import cross_val_score\n",
    "from sklearn.model_selection import train_test_split"
   ]
  },
  {
   "cell_type": "code",
   "execution_count": 2,
   "id": "3b60d6a6",
   "metadata": {},
   "outputs": [],
   "source": [
    "data = pd.read_csv('./abalone.csv')"
   ]
  },
  {
   "cell_type": "markdown",
   "id": "9c08c462",
   "metadata": {},
   "source": [
    "**2. Преобразуйте признак Sex в числовой: значение F должно перейти в -1, I — в 0, M — в 1. Если вы используете Pandas, то подойдет следующий код: data['Sex'] = data['Sex'].map(lambda x: 1 if x == 'M' else (-1 if x == 'F' else 0))**"
   ]
  },
  {
   "cell_type": "code",
   "execution_count": 3,
   "id": "60821b06",
   "metadata": {},
   "outputs": [
    {
     "data": {
      "text/plain": [
       "array(['M', 'F', 'I'], dtype=object)"
      ]
     },
     "execution_count": 3,
     "metadata": {},
     "output_type": "execute_result"
    }
   ],
   "source": [
    "data['Sex'].unique()"
   ]
  },
  {
   "cell_type": "code",
   "execution_count": 4,
   "id": "81f5a588",
   "metadata": {},
   "outputs": [],
   "source": [
    "data['Sex'] = data['Sex'].map(lambda x: 1 if x =='M' else(-1 if x=='F' else 0))"
   ]
  },
  {
   "cell_type": "markdown",
   "id": "54075c2a",
   "metadata": {},
   "source": [
    "**3.Разделите содержимое файлов на признаки и целевую переменную. В последнем столбце записана целевая переменная, в остальных — признаки.**"
   ]
  },
  {
   "cell_type": "code",
   "execution_count": 5,
   "id": "2e282108",
   "metadata": {},
   "outputs": [],
   "source": [
    "y = data['Rings']"
   ]
  },
  {
   "cell_type": "code",
   "execution_count": 6,
   "id": "09926a5c",
   "metadata": {},
   "outputs": [],
   "source": [
    "X = data.iloc[:,:-1]"
   ]
  },
  {
   "cell_type": "markdown",
   "id": "e5c35a49",
   "metadata": {},
   "source": [
    "**4. Обучите случайный лес (sklearn.ensemble.RandomForestRegressor) с различным числом деревьев: от 1 до 50 (не забудьте выставить \"random_state=1\" в конструкторе). Для каждого из вариантов оцените качество работы полученного леса на кросс-валидации по 5 блокам. Используйте параметры \"random_state=1\" и \"shuffle=True\" при создании генератора кросс-валидации sklearn.cross_validation.KFold.  В качестве меры качества воспользуйтесь коэффициентом детерминации (sklearn.metrics.r2_score).**"
   ]
  },
  {
   "cell_type": "code",
   "execution_count": 7,
   "id": "457c16f7",
   "metadata": {},
   "outputs": [
    {
     "data": {
      "text/plain": [
       "5"
      ]
     },
     "execution_count": 7,
     "metadata": {},
     "output_type": "execute_result"
    }
   ],
   "source": [
    "kf = KFold(n_splits=5, random_state=1, shuffle=True)\n",
    "kf.get_n_splits(X=X)"
   ]
  },
  {
   "cell_type": "code",
   "execution_count": 21,
   "id": "002fafac",
   "metadata": {},
   "outputs": [],
   "source": [
    "def forest_n_trees(num_trees, X, y):\n",
    "    ans = []\n",
    "    for n in range (1, num_trees+1):\n",
    "        forest = RandomForestRegressor(n_estimators=n, random_state=1, n_jobs=-1)\n",
    "        forest.fit(X=X, y=y)\n",
    "        arr = cross_val_score(estimator=forest, X=X, y=y, cv=kf)\n",
    "        m=arr.mean()\n",
    "        ans.append(m)\n",
    "    return ans"
   ]
  },
  {
   "cell_type": "code",
   "execution_count": 22,
   "id": "28262ec4",
   "metadata": {},
   "outputs": [],
   "source": [
    "ans = forest_n_trees(50,X=X,y=y)"
   ]
  },
  {
   "cell_type": "code",
   "execution_count": 26,
   "id": "fc92b316",
   "metadata": {},
   "outputs": [
    {
     "data": {
      "text/plain": [
       "[0.10967482068860261,\n",
       " 0.3413000096365689,\n",
       " 0.406433829066129,\n",
       " 0.4447745857536912,\n",
       " 0.46503241426823594,\n",
       " 0.47139595825898917,\n",
       " 0.4766658451893487,\n",
       " 0.4829348394224631,\n",
       " 0.4894370162945041,\n",
       " 0.4954085552428177,\n",
       " 0.4944111155773555,\n",
       " 0.49902817866563326,\n",
       " 0.5030578549564464,\n",
       " 0.5073168234618861,\n",
       " 0.5091809969556578,\n",
       " 0.5114105314179662,\n",
       " 0.5148917747729636,\n",
       " 0.5172203573170132,\n",
       " 0.5198293095329432,\n",
       " 0.51948435033775,\n",
       " 0.520529096463528,\n",
       " 0.5208044230080824,\n",
       " 0.521742855685855,\n",
       " 0.5231059969795335,\n",
       " 0.5232486470488318,\n",
       " 0.5243076139284634,\n",
       " 0.5246393588459404,\n",
       " 0.5256557724971402,\n",
       " 0.5265556293057552,\n",
       " 0.5270858715838138,\n",
       " 0.5276420438225101,\n",
       " 0.5289244806388986,\n",
       " 0.5301073722643779,\n",
       " 0.5299613734264366,\n",
       " 0.5298209779129148,\n",
       " 0.529910050667947,\n",
       " 0.5294320415136227,\n",
       " 0.5294715388671245,\n",
       " 0.529515898349607,\n",
       " 0.5294703580378128,\n",
       " 0.5298087685207094,\n",
       " 0.5300433306143383,\n",
       " 0.5299135764090978,\n",
       " 0.5296814957917958,\n",
       " 0.528908112349864,\n",
       " 0.5290083070325597,\n",
       " 0.5291786571646144,\n",
       " 0.5300509396315634,\n",
       " 0.530813058616495,\n",
       " 0.5309509147417047]"
      ]
     },
     "execution_count": 26,
     "metadata": {},
     "output_type": "execute_result"
    }
   ],
   "source": [
    "ans"
   ]
  },
  {
   "cell_type": "markdown",
   "id": "0022b2a3",
   "metadata": {},
   "source": [
    "**5. Определите, при каком минимальном количестве деревьев случайный лес показывает качество на кросс-валидации выше 0.52. Это количество и будет ответом на задание.**"
   ]
  },
  {
   "cell_type": "code",
   "execution_count": 27,
   "id": "41d91ec7",
   "metadata": {},
   "outputs": [
    {
     "name": "stdout",
     "output_type": "stream",
     "text": [
      "20\n"
     ]
    }
   ],
   "source": [
    "for i, a in enumerate(ans):\n",
    "    if a >= 0.52:\n",
    "        print(i+2)\n",
    "        break"
   ]
  },
  {
   "cell_type": "code",
   "execution_count": 24,
   "id": "3bbac2ab",
   "metadata": {},
   "outputs": [],
   "source": [
    "with open('./1.txt', 'w') as f:\n",
    "    f.write(\"20\")\n",
    "f.close()"
   ]
  },
  {
   "cell_type": "code",
   "execution_count": 29,
   "id": "11dc61d8",
   "metadata": {},
   "outputs": [],
   "source": [
    "train_test_split?"
   ]
  },
  {
   "cell_type": "code",
   "execution_count": null,
   "id": "5d156d8b",
   "metadata": {},
   "outputs": [],
   "source": [
    "forest = RandomForestRegressor(n_estimators=n, random_state=1, n_jobs=-1)\n",
    "forest.fit(X=X, y=y)\n",
    "arr = cross_val_score(estimator=forest, X=X, y=y, cv=kf)\n",
    "m=arr.mean()\n",
    "ans.append(m)"
   ]
  },
  {
   "cell_type": "code",
   "execution_count": 30,
   "id": "9e3a95a9",
   "metadata": {},
   "outputs": [],
   "source": [
    "X_train, X_test, y_train, y_test = train_test_split(X, y, random_state=42)"
   ]
  },
  {
   "cell_type": "markdown",
   "id": "c5ddc377",
   "metadata": {},
   "source": [
    "**Также в этом задании вам понадобится вычислять качество предсказаний на тестовой выборке. Мы будем пользоваться метрикой R2 — по сути, это среднеквадратичная ошибка (MSE), нормированная на отрезок [0, 1] и обращенная так, чтобы ее наилучшим значением была единица. Ее можно вычислить с помощью функции sklearn.metrics.r2_score.**"
   ]
  },
  {
   "cell_type": "code",
   "execution_count": 32,
   "id": "1ef48d8b",
   "metadata": {},
   "outputs": [
    {
     "data": {
      "text/plain": [
       "RandomForestRegressor(n_estimators=50, n_jobs=-1, random_state=1)"
      ]
     },
     "execution_count": 32,
     "metadata": {},
     "output_type": "execute_result"
    }
   ],
   "source": [
    "forest = RandomForestRegressor(n_estimators=50, random_state=1, n_jobs=-1)\n",
    "forest.fit(X=X_train, y=y_train)"
   ]
  },
  {
   "cell_type": "code",
   "execution_count": 33,
   "id": "c7988a85",
   "metadata": {},
   "outputs": [],
   "source": [
    "y_pred = forest.predict(X=X_test)"
   ]
  },
  {
   "cell_type": "code",
   "execution_count": 34,
   "id": "03887aef",
   "metadata": {},
   "outputs": [
    {
     "data": {
      "text/plain": [
       "0.5318960400481536"
      ]
     },
     "execution_count": 34,
     "metadata": {},
     "output_type": "execute_result"
    }
   ],
   "source": [
    "r2_score(y_true=y_test, y_pred=y_pred)"
   ]
  },
  {
   "cell_type": "markdown",
   "id": "ee5201af",
   "metadata": {},
   "source": [
    "**6. Обратите внимание на изменение качества по мере роста числа деревьев. Ухудшается ли оно?**"
   ]
  },
  {
   "cell_type": "code",
   "execution_count": null,
   "id": "709e606c",
   "metadata": {},
   "outputs": [],
   "source": [
    "# no "
   ]
  }
 ],
 "metadata": {
  "kernelspec": {
   "display_name": "Python 3 (ipykernel)",
   "language": "python",
   "name": "python3"
  },
  "language_info": {
   "codemirror_mode": {
    "name": "ipython",
    "version": 3
   },
   "file_extension": ".py",
   "mimetype": "text/x-python",
   "name": "python",
   "nbconvert_exporter": "python",
   "pygments_lexer": "ipython3",
   "version": "3.9.10"
  }
 },
 "nbformat": 4,
 "nbformat_minor": 5
}
