{
 "cells": [
  {
   "cell_type": "markdown",
   "metadata": {},
   "source": [
    "# Финальное задание"
   ]
  },
  {
   "cell_type": "markdown",
   "metadata": {},
   "source": [
    "## Предметная область: Игра Dota 2\n",
    "\n",
    "[Dota 2](https://ru.wikipedia.org/wiki/Dota_2) — многопользовательская компьютерная игра жанра [MOBA](https://ru.wikipedia.org/wiki/MOBA). Игроки играют между собой матчи. В каждом матче участвует две команды, 5 человек в каждой. Одна команда играет за светлую сторону (The Radiant), другая — за тёмную (The Dire). Цель каждой команды — уничтожить главное здание базы противника (трон).\n",
    "\n",
    "Существуют [разные режимы игры](http://dota2.gamepedia.com/Game_modes/ru), мы будем рассматривать режим [Captain's Mode](http://dota2.gamepedia.com/Game_modes/ru#Captain.27s_Mode), в формате которого происходит большая часть киберспортивных мероприятий по Dota 2.\n",
    "\n",
    "### Как проходит матч\n",
    "\n",
    "#### 1. Игроки выбирают героев\n",
    "\n",
    "Всего в игре чуть более 100 различных героев (персонажей). В начале игры, команды в определенном порядке выбирают героев себе и запрещают выбирать определенных героев противнику (баны). Каждый игрок будет управлять одним героем, в рамках одного матча не может быть несколько одинаковых героев.  Герои различаются между собой своими характеристиками и способностями. От комбинации выбранных героев во многом зависит успех команды.\n",
    "\n",
    "![](http://imgur.com/XFr4HYE.jpg)\n",
    "\n",
    "#### 2. Основная часть\n",
    "\n",
    "Игроки могут получать золото и опыт за убийство чужих героев или прочих юнитов. Накопленный опыт влияет на уровень героя, который в свою очередь позволяет улучшать способности. За накопленное золото игроки покупают предметы, которые улучшают характеристики героев или дают им новые способности.\n",
    "\n",
    "После смерти герой отправляется в \"таверну\" и возрождается только по прошествии некоторого времени, таким образом команда на некоторое время теряет игрока, однако игрок может досрочно выкупить героя из таверны за определенную сумму золота.\n",
    "\n",
    "В течение игры команды развивают своих героев, обороняют свою часть поля и нападают на вражескую.\n",
    "\n",
    "![](http://imgur.com/5b0SlQb.jpg)\n",
    "\n",
    "#### 3. Конец игры\n",
    "\n",
    "Игра заканчивается, когда одна из команд разрушет определенное число \"башен\" противника и уничтожает трон.\n",
    "\n",
    "![](http://imgur.com/Du79Kzf.jpg)"
   ]
  },
  {
   "cell_type": "markdown",
   "metadata": {},
   "source": [
    "## Задача: предсказание победы по данным о первых 5 минутах игры\n",
    "\n",
    "По первым 5 минутам игры предсказать, какая из команд победит: Radiant или Dire?"
   ]
  },
  {
   "cell_type": "markdown",
   "metadata": {},
   "source": [
    "1. Считайте таблицу с признаками из файла features.csv с помощью кода, приведенного выше. Удалите признаки, связанные с итогами матча (они помечены в описании данных как отсутствующие в тестовой выборке)."
   ]
  },
  {
   "cell_type": "code",
   "execution_count": 1,
   "metadata": {},
   "outputs": [],
   "source": [
    "import pandas as pd\n",
    "import numpy as np"
   ]
  },
  {
   "cell_type": "code",
   "execution_count": 2,
   "metadata": {},
   "outputs": [],
   "source": [
    "train = pd.read_csv('./features.csv')\n",
    "test = pd.read_csv('./features_test.csv')"
   ]
  },
  {
   "cell_type": "code",
   "execution_count": 3,
   "metadata": {},
   "outputs": [],
   "source": [
    "train.columns\n",
    "y_train = train['radiant_win'] # пока не уверен\n",
    "train.drop(columns='radiant_win',inplace=True)"
   ]
  },
  {
   "cell_type": "code",
   "execution_count": 4,
   "metadata": {},
   "outputs": [],
   "source": [
    "train.drop(columns=train.columns[-6:], inplace=True)"
   ]
  },
  {
   "cell_type": "markdown",
   "metadata": {},
   "source": [
    "2. Проверьте выборку на наличие пропусков с помощью функции count(), которая для каждого столбца показывает число заполненных значений. Много ли пропусков в данных? Запишите названия признаков, имеющих пропуски, и попробуйте для любых двух из них дать обоснование, почему их значения могут быть пропущены."
   ]
  },
  {
   "cell_type": "code",
   "execution_count": 5,
   "metadata": {},
   "outputs": [
    {
     "name": "stdout",
     "output_type": "stream",
     "text": [
      "      название колонки          кол-во пропусков         процент пропусков\n",
      "       first_blood_time       \t\t19553\t\t\t20.11%    \n",
      "       first_blood_team       \t\t19553\t\t\t20.11%    \n",
      "     first_blood_player1      \t\t19553\t\t\t20.11%    \n",
      "     first_blood_player2      \t\t43987\t\t\t45.24%    \n",
      "     radiant_bottle_time      \t\t15691\t\t\t16.14%    \n",
      "     radiant_courier_time     \t\t692\t\t\t0.71%    \n",
      " radiant_flying_courier_time  \t\t27479\t\t\t28.26%    \n",
      "   radiant_first_ward_time    \t\t1836\t\t\t1.89%    \n",
      "       dire_bottle_time       \t\t16143\t\t\t16.6%    \n",
      "      dire_courier_time       \t\t676\t\t\t0.7%    \n",
      "   dire_flying_courier_time   \t\t26098\t\t\t26.84%    \n"
     ]
    }
   ],
   "source": [
    "print(' '*6 + 'название колонки          кол-во пропусков         процент пропусков')\n",
    "nan_fields = []\n",
    "for i in train.columns:\n",
    "    n = len(train[train[i].isna()])\n",
    "    if n > 0:\n",
    "        nan_fields.append(i)\n",
    "        print(i.center(30), n, '\\t' + str(round(n/len(train) * 100, 2)) + '%    ', sep='\\t\\t')"
   ]
  },
  {
   "cell_type": "markdown",
   "metadata": {},
   "source": [
    "first_blood_time  и first_blood_team имеют одинаковое число пропусков. Скорее всего пропуск означает незаполненность данных т.е первого убийства не произошло\n",
    "_courier_time, _bottle_time и т.д пропуски в данных колонках означают, что игроки не совершили определенное действие в течении 5 минут.\n",
    "Колонки first_blood_player1 и first_blood_player2 вызывают вопросы. Почему так много пропусков для first_blood_player2? Почему пропуски в first_blood_player1 =  first_blood_time. "
   ]
  },
  {
   "cell_type": "markdown",
   "metadata": {},
   "source": [
    "3. Замените пропуски на нули с помощью функции fillna(). На самом деле этот способ является предпочтительным для логистической регрессии, поскольку он позволит пропущенному значению не вносить никакого вклада в предсказание. Для деревьев часто лучшим вариантом оказывается замена пропуска на очень большое или очень маленькое значение — в этом случае при построении разбиения вершины можно будет отправить объекты с пропусками в отдельную ветвь дерева. Также есть и другие подходы — например, замена пропуска на среднее значение признака. Мы не требуем этого в задании, но при желании попробуйте разные подходы к обработке пропусков и сравните их между собой."
   ]
  },
  {
   "cell_type": "code",
   "execution_count": 7,
   "metadata": {},
   "outputs": [],
   "source": [
    "train_filna = train.fillna(value='0')"
   ]
  },
  {
   "cell_type": "markdown",
   "metadata": {},
   "source": [
    "4. Какой столбец содержит целевую переменную? Запишите его название."
   ]
  },
  {
   "cell_type": "code",
   "execution_count": null,
   "metadata": {},
   "outputs": [],
   "source": [
    "# y = train['radiant_win'] # 1 победа света 0 победа тьмы. не запускать т.к выше выделил"
   ]
  },
  {
   "cell_type": "markdown",
   "metadata": {},
   "source": [
    "5. Забудем, что в выборке есть категориальные признаки, и попробуем обучить градиентный бустинг над деревьями на имеющейся матрице \"объекты-признаки\". Зафиксируйте генератор разбиений для кросс-валидации по 5 блокам (KFold), не забудьте перемешать при этом выборку (shuffle=True), поскольку данные в таблице отсортированы по времени, и без перемешивания можно столкнуться с нежелательными эффектами при оценивании качества. Оцените качество градиентного бустинга (GradientBoostingClassifier) с помощью данной кросс-валидации, попробуйте при этом разное количество деревьев (как минимум протестируйте следующие значения для количества деревьев: 10, 20, 30). Долго ли настраивались классификаторы? Достигнут ли оптимум на испытанных значениях параметра n_estimators, или же качество, скорее всего, продолжит расти при дальнейшем его увеличении?"
   ]
  },
  {
   "cell_type": "code",
   "execution_count": 10,
   "metadata": {},
   "outputs": [],
   "source": [
    "from sklearn.model_selection import cross_val_score\n",
    "from sklearn.ensemble import GradientBoostingClassifier\n",
    "from sklearn.model_selection import KFold\n",
    "from sklearn.metrics import roc_auc_score\n",
    "import time\n",
    "import datetime"
   ]
  },
  {
   "cell_type": "code",
   "execution_count": 14,
   "metadata": {},
   "outputs": [],
   "source": [
    "%%time\n",
    "cv = KFold(n_splits = 5, random_state = 241, shuffle = True)\n",
    "results_test_1 = []\n",
    "start_time = datetime.datetime.now()\n",
    "gradboost = GradientBoostingClassifier(n_estimators=30, random_state=241, verbose = True)\n",
    "score = cross_val_score(gradboost, X=train_max, y=y, cv=cv, scoring=\"roc_auc\", n_jobs=-1)\n",
    "# print('n_trees =', n_trees, '\\nscore =', np.mean(score))\n",
    "# print('Time of iter:', datetime.datetime.now() - start_time)\n",
    "results_test_1.append(score)"
   ]
  },
  {
   "cell_type": "code",
   "execution_count": 15,
   "metadata": {},
   "outputs": [
    {
     "data": {
      "text/plain": [
       "[array([0.5928597 , 0.58430223, 0.59519487, 0.59047731, 0.59599388])]"
      ]
     },
     "execution_count": 15,
     "metadata": {},
     "output_type": "execute_result"
    }
   ],
   "source": [
    "results_test_1"
   ]
  },
  {
   "cell_type": "code",
   "execution_count": 18,
   "metadata": {},
   "outputs": [
    {
     "name": "stdout",
     "output_type": "stream",
     "text": [
      "n_trees = 5 \n",
      "score = 0.6357376430919737\n",
      "Time of iter: 0:00:05.403854\n",
      "n_trees = 10 \n",
      "score = 0.6643877206345741\n",
      "Time of iter: 0:00:08.533827\n",
      "n_trees = 20 \n",
      "score = 0.6828535735340823\n",
      "Time of iter: 0:00:15.331705\n",
      "n_trees = 30 \n",
      "score = 0.6895284641500616\n",
      "Time of iter: 0:00:21.748389\n",
      "n_trees = 100 \n",
      "score = 0.7060885454950159\n",
      "Time of iter: 0:01:09.814312\n",
      "n_trees = 150 \n",
      "score = 0.7104347863717377\n",
      "Time of iter: 0:01:44.207450\n",
      "n_trees = 200 \n",
      "score = 0.7136451086110094\n",
      "Time of iter: 0:02:19.263175\n",
      "n_trees = 400 \n",
      "score = 0.7194394902524287\n",
      "Time of iter: 0:04:35.405330\n",
      "CPU times: total: 2.75 s\n",
      "Wall time: 10min 39s\n"
     ]
    }
   ],
   "source": [
    "%%time\n",
    "cv = KFold(n_splits = 5, random_state = 241, shuffle = True)\n",
    "# learning rate = \n",
    "results = []\n",
    "for n_trees in [5, 10, 20, 30, 100, 150, 200, 400]:\n",
    "    start_time = datetime.datetime.now()\n",
    "    gradboost = GradientBoostingClassifier(n_estimators=n_trees, random_state=241, verbose = True)\n",
    "    score = np.mean(cross_val_score(gradboost, X=train_filna, y=y, cv=cv, scoring=\"roc_auc\", n_jobs=-1))\n",
    "    print('n_trees =', n_trees, '\\nscore =', score)\n",
    "    print('Time of iter:', datetime.datetime.now() - start_time)\n",
    "    results.append(score)"
   ]
  },
  {
   "cell_type": "markdown",
   "metadata": {},
   "source": [
    "Долго ли настраивались классификаторы? Достигнут ли оптимум на испытанных значениях параметра n_estimators, или же качество, скорее всего, продолжит расти при дальнейшем его увеличении?\n",
    "\n",
    "**Ответ**:\n",
    "1. понятие долго или быстро относительно. Однако чем больше деревьев, тем больше время, что логично.\n",
    "Для 30 деревьев время  21.75 сек\n",
    "2. Качество продолжает расти, однако скорость роста замедляется. Можно считать, что оптимум почти достигнут при n_estimators = 400, ROC_AUC при этом ~ 72%. \n",
    "\n",
    "Для того чтобы ускорить обучение можно уменьшенить выборку например попробовать метод уменьшения размерности. Также, вероятно, будет иметь смысл сократить число коррелирующих признаков, или использовать производные признаки сразу от нескольких. Так, например, признак перая кровь и золото явно связаны некоторой зависимостью."
   ]
  },
  {
   "cell_type": "code",
   "execution_count": 19,
   "metadata": {},
   "outputs": [
    {
     "data": {
      "image/png": "[encoded data removed]",
      "text/plain": [
       "<Figure size 432x288 with 1 Axes>"
      ]
     },
     "metadata": {
      "needs_background": "light"
     },
     "output_type": "display_data"
    }
   ],
   "source": [
    "import matplotlib.pyplot as plt\n",
    "\n",
    "plt.figure()\n",
    "plt.plot([5, 10, 20, 30, 100, 150, 200, 400], results, 'g', linewidth=2)\n",
    "plt.xlabel('n_trees')\n",
    "plt.ylabel('score_ROC_AUC')\n",
    "plt.show()"
   ]
  },
  {
   "cell_type": "markdown",
   "metadata": {},
   "source": [
    "### Подход 2: логистическая регрессия\n",
    "\n",
    "Линейные методы работают гораздо быстрее композиций деревьев, поэтому кажется разумным воспользоваться именно ими для ускорения анализа данных. Одним из наиболее распространенных методов для классификации является логистическая регрессия.\n",
    "\n",
    "**Важно:** не забывайте, что линейные алгоритмы чувствительны к масштабу признаков! Может пригодиться sklearn.preprocessing.StandartScaler.\n",
    "\n",
    "1. Оцените качество логистической регрессии (sklearn.linear_model.LogisticRegression с L2-регуляризацией) с помощью кросс-валидации по той же схеме, которая использовалась для градиентного бустинга. Подберите при этом лучший параметр регуляризации (C). Какое наилучшее качество у вас получилось? Как оно соотносится с качеством градиентного бустинга? Чем вы можете объяснить эту разницу? Быстрее ли работает логистическая регрессия по сравнению с градиентным бустингом?\n",
    "2. Среди признаков в выборке есть категориальные, которые мы использовали как числовые, что вряд ли является хорошей идеей. Категориальных признаков в этой задаче одиннадцать: lobby_type и r1_hero, r2_hero, ..., r5_hero, d1_hero, d2_hero, ..., d5_hero. Уберите их из выборки, и проведите кросс-валидацию для логистической регрессии на новой выборке с подбором лучшего параметра регуляризации. Изменилось ли качество? Чем вы можете это объяснить?\n",
    "3. На предыдущем шаге мы исключили из выборки признаки rM_hero и dM_hero, которые показывают, какие именно герои играли за каждую команду. Это важные признаки — герои имеют разные характеристики, и некоторые из них выигрывают чаще, чем другие. Выясните из данных, сколько различных идентификаторов героев существует в данной игре (вам может пригодиться фукнция unique или value_counts).\n",
    "4. Воспользуемся подходом \"мешок слов\" для кодирования информации о героях. Пусть всего в игре имеет N различных героев. Сформируем N признаков, при этом i-й будет равен нулю, если i-й герой не участвовал в матче; единице, если i-й герой играл за команду Radiant; минус единице, если i-й герой играл за команду Dire. Ниже вы можете найти код, который выполняет данной преобразование. Добавьте полученные признаки к числовым, которые вы использовали во втором пункте данного этапа.\n",
    "5. Проведите кросс-валидацию для логистической регрессии на новой выборке с подбором лучшего параметра регуляризации. Какое получилось качество? Улучшилось ли оно? Чем вы можете это объяснить?\n",
    "6. Постройте предсказания вероятностей победы команды Radiant для тестовой выборки с помощью лучшей из изученных моделей (лучшей с точки зрения AUC-ROC на кросс-валидации). Убедитесь, что предсказанные вероятности адекватные — находятся на отрезке [0, 1], не совпадают между собой (т.е. что модель не получилась константной).\n",
    "\n",
    "##### Что указать в отчете\n",
    "В отчете по данному этапу вы должны ответить на следующие вопросы:\n",
    "1. Какое качество получилось у логистической регрессии над всеми исходными признаками? Как оно соотносится с качеством градиентного бустинга? Чем вы можете объяснить эту разницу? Быстрее ли работает логистическая регрессия по сравнению с градиентным бустингом?\n",
    "2. Как влияет на качество логистической регрессии удаление категориальных признаков (укажите новое значение метрики качества)? Чем вы можете объяснить это изменение?\n",
    "3. Сколько различных идентификаторов героев существует в данной игре?\n",
    "4. Какое получилось качество при добавлении \"мешка слов\" по героям? Улучшилось ли оно по сравнению с предыдущим вариантом? Чем вы можете это объяснить?\n",
    "5. Какое минимальное и максимальное значение прогноза на тестовой выборке получилось у лучшего из алгоритмов?\n",
    "\n",
    "\n",
    "##### Код для формирования \"мешка слов\" по героям\n",
    "```python\n",
    "# N — количество различных героев в выборке\n",
    "X_pick = np.zeros((data.shape[0], N))\n",
    "\n",
    "for i, match_id in enumerate(data.index):\n",
    "    for p in xrange(5):\n",
    "        X_pick[i, data.ix[match_id, 'r%d_hero' % (p+1)]-1] = 1\n",
    "        X_pick[i, data.ix[match_id, 'd%d_hero' % (p+1)]-1] = -1\n",
    "```"
   ]
  },
  {
   "cell_type": "markdown",
   "metadata": {},
   "source": [
    "1. Оцените качество логистической регрессии (sklearn.linear_model.LogisticRegression с L2-регуляризацией) с помощью кросс-валидации по той же схеме, которая использовалась для градиентного бустинга. Подберите при этом лучший параметр регуляризации (C). Какое наилучшее качество у вас получилось? Как оно соотносится с качеством градиентного бустинга? Чем вы можете объяснить эту разницу? Быстрее ли работает логистическая регрессия по сравнению с градиентным бустингом?"
   ]
  },
  {
   "cell_type": "code",
   "execution_count": 25,
   "metadata": {},
   "outputs": [],
   "source": [
    "from sklearn.linear_model import LogisticRegression\n",
    "from sklearn.preprocessing import StandardScaler"
   ]
  },
  {
   "cell_type": "code",
   "execution_count": 26,
   "metadata": {},
   "outputs": [],
   "source": [
    "scaler = StandardScaler()\n",
    "train_scaled = pd.DataFrame(scaler.fit_transform(train_filna), index=train_filna.index, columns=train_filna.columns)"
   ]
  },
  {
   "cell_type": "code",
   "execution_count": 28,
   "metadata": {},
   "outputs": [
    {
     "name": "stdout",
     "output_type": "stream",
     "text": [
      "C =  1e-05 \n",
      "score =  0.6949544721311851\n",
      "Time of iter: 0:00:00.842095\n",
      "C =  0.0001 \n",
      "score =  0.7111566762381692\n",
      "Time of iter: 0:00:00.914727\n",
      "C =  0.001 \n",
      "score =  0.7160934660649613\n",
      "Time of iter: 0:00:01.315550\n",
      "C =  0.01 \n",
      "score =  0.7162243438720088\n",
      "Time of iter: 0:00:01.556308\n",
      "C =  0.1 \n",
      "score =  0.7161889728977923\n",
      "Time of iter: 0:00:01.646477\n",
      "C =  1.0 \n",
      "score =  0.7161843478132942\n",
      "Time of iter: 0:00:01.761097\n",
      "C =  10.0 \n",
      "score =  0.7161837567685494\n",
      "Time of iter: 0:00:01.755964\n",
      "C =  100.0 \n",
      "score =  0.7161837080386869\n",
      "Time of iter: 0:00:01.717624\n",
      "C =  1000.0 \n",
      "score =  0.7161836699107751\n",
      "Time of iter: 0:00:01.700105\n",
      "C =  10000.0 \n",
      "score =  0.7161836699021954\n",
      "Time of iter: 0:00:01.692377\n",
      "C =  100000.0 \n",
      "score =  0.7161836699021954\n",
      "Time of iter: 0:00:01.762593\n"
     ]
    }
   ],
   "source": [
    "cv = KFold(random_state=241, n_splits=5, shuffle=True)\n",
    "reg_result = []\n",
    "\n",
    "C_range = [(10.0**i) for i in np.arange(-5, 6)]\n",
    "\n",
    "for regul_param in C_range:\n",
    "    start_time = datetime.datetime.now()\n",
    "    \n",
    "    logit = LogisticRegression(random_state = 241, penalty = 'l2', n_jobs = -1, C = regul_param)\n",
    "    reg_score = np.mean(cross_val_score(estimator=logit, X=train_scaled, y=y, cv=cv, n_jobs=-1, scoring=\"roc_auc\"))\n",
    "    reg_result.append(reg_score)\n",
    "    print('C = ', regul_param, '\\nscore = ', reg_score)\n",
    "    print('Time of iter:', datetime.datetime.now() - start_time)"
   ]
  },
  {
   "cell_type": "code",
   "execution_count": 34,
   "metadata": {},
   "outputs": [
    {
     "data": {
      "image/png": "[encoded data removed]",
      "text/plain": [
       "<Figure size 432x288 with 1 Axes>"
      ]
     },
     "metadata": {
      "needs_background": "light"
     },
     "output_type": "display_data"
    }
   ],
   "source": [
    "plt.figure()\n",
    "plt.plot(C_range[:4], reg_result[:4], 'g', linewidth=2)\n",
    "plt.xlabel('C')\n",
    "plt.ylabel('score_ROC_AUC')\n",
    "plt.show()"
   ]
  },
  {
   "cell_type": "code",
   "execution_count": 54,
   "metadata": {},
   "outputs": [],
   "source": [
    "res_dict = dict(zip(C_range, reg_result))"
   ]
  },
  {
   "cell_type": "code",
   "execution_count": 67,
   "metadata": {},
   "outputs": [],
   "source": [
    "res_dict = dict(zip(reg_result, C_range))"
   ]
  },
  {
   "cell_type": "code",
   "execution_count": 69,
   "metadata": {},
   "outputs": [
    {
     "data": {
      "text/plain": [
       "0.01"
      ]
     },
     "execution_count": 69,
     "metadata": {},
     "output_type": "execute_result"
    }
   ],
   "source": [
    "res_dict[sorted(res_dict, reverse=True)[0]]"
   ]
  },
  {
   "cell_type": "code",
   "execution_count": 38,
   "metadata": {},
   "outputs": [],
   "source": [
    "hashmap = {}\n",
    "for i in range(len(reg_result)):\n",
    "    hashmap[reg_result[i]] = i"
   ]
  },
  {
   "cell_type": "code",
   "execution_count": 48,
   "metadata": {},
   "outputs": [
    {
     "data": {
      "text/plain": [
       "(0.7162243438720088, 0.01)"
      ]
     },
     "execution_count": 48,
     "metadata": {},
     "output_type": "execute_result"
    }
   ],
   "source": [
    "reg_result[hashmap[sorted(hashmap, reverse=True)[0]]], C_range[hashmap[sorted(hashmap, reverse=True)[0]]]"
   ]
  },
  {
   "cell_type": "markdown",
   "metadata": {},
   "source": [
    "2. Среди признаков в выборке есть категориальные, которые мы использовали как числовые, что вряд ли является хорошей идеей. Категориальных признаков в этой задаче одиннадцать: lobby_type и r1_hero, r2_hero, ..., r5_hero, d1_hero, d2_hero, ..., d5_hero. Уберите их из выборки, и проведите кросс-валидацию для логистической регрессии на новой выборке с подбором лучшего параметра регуляризации. Изменилось ли качество? Чем вы можете это объяснить?"
   ]
  },
  {
   "cell_type": "code",
   "execution_count": 71,
   "metadata": {},
   "outputs": [],
   "source": [
    "dropping = [\"lobby_type\", 'r1_hero', 'r2_hero', 'r3_hero', 'r4_hero', 'r5_hero',\n",
    "            'd1_hero', 'd2_hero', 'd3_hero', 'd4_hero', 'd5_hero']\n",
    "train_scaled_no_kategor = train_scaled.drop(np.hstack(dropping), axis=1)"
   ]
  },
  {
   "cell_type": "code",
   "execution_count": 72,
   "metadata": {},
   "outputs": [
    {
     "data": {
      "text/plain": [
       "91"
      ]
     },
     "execution_count": 72,
     "metadata": {},
     "output_type": "execute_result"
    }
   ],
   "source": [
    "len(train_scaled_no_kategor.columns)"
   ]
  },
  {
   "cell_type": "code",
   "execution_count": 138,
   "metadata": {},
   "outputs": [
    {
     "name": "stdout",
     "output_type": "stream",
     "text": [
      "C =  1e-05 \n",
      "score =  0.6949023873928916\n",
      "Time of iter: 0:00:00.774721\n",
      "C =  0.0001 \n",
      "score =  0.7111618794893511\n",
      "Time of iter: 0:00:00.878862\n",
      "C =  0.001 \n",
      "score =  0.7161467240323504\n",
      "Time of iter: 0:00:01.245527\n",
      "C =  0.01 \n",
      "score =  0.7162904613346499\n",
      "Time of iter: 0:00:01.586432\n",
      "C =  0.1 \n",
      "score =  0.7162553462673573\n",
      "Time of iter: 0:00:01.712736\n",
      "C =  1.0 \n",
      "score =  0.716250280243005\n",
      "Time of iter: 0:00:01.588534\n",
      "C =  10.0 \n",
      "score =  0.7162497971633146\n",
      "Time of iter: 0:00:01.783223\n",
      "C =  100.0 \n",
      "score =  0.7162499093574327\n",
      "Time of iter: 0:00:01.670086\n",
      "C =  1000.0 \n",
      "score =  0.7162499262894821\n",
      "Time of iter: 0:00:01.742797\n",
      "C =  10000.0 \n",
      "score =  0.7162499178150424\n",
      "Time of iter: 0:00:01.605262\n",
      "C =  100000.0 \n",
      "score =  0.7162499156970963\n",
      "Time of iter: 0:00:01.615643\n"
     ]
    }
   ],
   "source": [
    "cv = KFold(random_state=241, n_splits=5, shuffle=True)\n",
    "reg_result_numonly = []\n",
    "C_range = [(10.0**i) for i in np.arange(-5, 6)]\n",
    "\n",
    "for regul_param in C_range:\n",
    "    start_time = datetime.datetime.now()\n",
    "    logit = LogisticRegression(random_state = 241, penalty = 'l2', n_jobs = -1, C = regul_param)\n",
    "    reg_score = np.mean(cross_val_score(estimator=logit, X=train_scaled_no_kategor, y=y, cv=cv, n_jobs=-1, scoring=\"roc_auc\"))\n",
    "    reg_result_numonly.append(reg_score)\n",
    "    print('C = ', regul_param, '\\nscore = ', reg_score)\n",
    "    print('Time of iter:', datetime.datetime.now() - start_time)"
   ]
  },
  {
   "cell_type": "code",
   "execution_count": 139,
   "metadata": {},
   "outputs": [],
   "source": [
    "hashmap_nums = {}\n",
    "for i in range(len(reg_result_numonly)):\n",
    "    hashmap_nums[reg_result_numonly[i]] = i"
   ]
  },
  {
   "cell_type": "code",
   "execution_count": 140,
   "metadata": {},
   "outputs": [
    {
     "data": {
      "text/plain": [
       "-6.611746264106877e-05"
      ]
     },
     "execution_count": 140,
     "metadata": {},
     "output_type": "execute_result"
    }
   ],
   "source": [
    "reg_result[hashmap[sorted(hashmap, reverse=True)[0]]] - reg_result_numonly[hashmap_nums[sorted(hashmap_nums, reverse=True)[0]]]"
   ]
  },
  {
   "cell_type": "code",
   "execution_count": 76,
   "metadata": {},
   "outputs": [
    {
     "data": {
      "text/plain": [
       "0       -1.244228\n",
       "1       -0.292258\n",
       "2       -0.568637\n",
       "3       -0.691471\n",
       "4       -1.182811\n",
       "           ...   \n",
       "97225   -0.138714\n",
       "97226   -0.261549\n",
       "97227    1.427430\n",
       "97228    1.488848\n",
       "97229   -0.046588\n",
       "Name: r1_hero, Length: 97230, dtype: float64"
      ]
     },
     "execution_count": 76,
     "metadata": {},
     "output_type": "execute_result"
    }
   ],
   "source": [
    "train_scaled['r1_hero']"
   ]
  },
  {
   "cell_type": "markdown",
   "metadata": {},
   "source": [
    "Качество незначительно улучшилось. Мы исключили категориальные признаки для которых была искусственно введена некоторая числовая зависимость незначительно влияющая на конечный результат. Однако если бы данные признаки имели большие весовые коэффициенты в итоговой модели, то подобная искусственно введенная зависимость могла бы значительно ухудшить результат."
   ]
  },
  {
   "cell_type": "markdown",
   "metadata": {},
   "source": [
    "3. На предыдущем шаге мы исключили из выборки признаки rM_hero и dM_hero, которые показывают, какие именно герои играли за каждую команду. Это важные признаки — герои имеют разные характеристики, и некоторые из них выигрывают чаще, чем другие. Выясните из данных, сколько различных идентификаторов героев существует в данной игре (вам может пригодиться фукнция unique или value_counts)."
   ]
  },
  {
   "cell_type": "code",
   "execution_count": 86,
   "metadata": {},
   "outputs": [],
   "source": [
    "check_hero = ['r1_hero', 'r2_hero', 'r3_hero', 'r4_hero', 'r5_hero',\n",
    "            'd1_hero', 'd2_hero', 'd3_hero', 'd4_hero', 'd5_hero']"
   ]
  },
  {
   "cell_type": "code",
   "execution_count": 122,
   "metadata": {},
   "outputs": [],
   "source": [
    "unique_heroes = pd.unique(train_filna.loc[:,check_hero].values.ravel())"
   ]
  },
  {
   "cell_type": "code",
   "execution_count": 121,
   "metadata": {},
   "outputs": [
    {
     "data": {
      "text/plain": [
       "108"
      ]
     },
     "execution_count": 121,
     "metadata": {},
     "output_type": "execute_result"
    }
   ],
   "source": [
    "len(pd.unique(train_filna.loc[:,check_hero].values.ravel()))"
   ]
  },
  {
   "cell_type": "markdown",
   "metadata": {},
   "source": [
    "4. Воспользуемся подходом \"мешок слов\" для кодирования информации о героях. Пусть всего в игре имеет N различных героев. Сформируем N признаков, при этом i-й будет равен нулю, если i-й герой не участвовал в матче; единице, если i-й герой играл за команду Radiant; минус единице, если i-й герой играл за команду Dire. Ниже вы можете найти код, который выполняет данной преобразование. Добавьте полученные признаки к числовым, которые вы использовали во втором пункте данного этапа."
   ]
  },
  {
   "cell_type": "code",
   "execution_count": 123,
   "metadata": {},
   "outputs": [],
   "source": [
    "N = max(unique_heroes)\n",
    "temp_data = train_filna.copy()\n",
    "heroes_bag_of_worlds = np.zeros((temp_data.shape[0], N))\n",
    "\n",
    "for i, match_id in enumerate(temp_data.index):\n",
    "    for p in range(5):\n",
    "        heroes_bag_of_worlds[i, temp_data.loc[match_id, 'r%d_hero' % (p+1)]-1] = 1\n",
    "        heroes_bag_of_worlds[i, temp_data.loc[match_id, 'd%d_hero' % (p+1)]-1] = -1"
   ]
  },
  {
   "cell_type": "code",
   "execution_count": 124,
   "metadata": {},
   "outputs": [],
   "source": [
    "train_scaled_with_heroes = pd.DataFrame(np.hstack((np.array(train_scaled), heroes_bag_of_worlds)))"
   ]
  },
  {
   "cell_type": "markdown",
   "metadata": {},
   "source": [
    "5. Проведите кросс-валидацию для логистической регрессии на новой выборке с подбором лучшего параметра регуляризации. Какое получилось качество? Улучшилось ли оно? Чем вы можете это объяснить?"
   ]
  },
  {
   "cell_type": "code",
   "execution_count": 137,
   "metadata": {},
   "outputs": [
    {
     "name": "stdout",
     "output_type": "stream",
     "text": [
      "C =  1e-05 \n",
      "score =  0.6989964351850435\n",
      "Time of iter: 0:00:01.212384\n",
      "C =  0.0001 \n",
      "score =  0.7248466390236856\n",
      "Time of iter: 0:00:01.329454\n",
      "C =  0.001 \n",
      "score =  0.746192850477766\n",
      "Time of iter: 0:00:02.446307\n",
      "C =  0.01 \n",
      "score =  0.7515792764325944\n",
      "Time of iter: 0:00:04.358280\n",
      "C =  0.1 \n",
      "score =  0.7517665338178482\n",
      "Time of iter: 0:00:05.429953\n",
      "C =  1.0 \n",
      "score =  0.7517434763921287\n",
      "Time of iter: 0:00:05.411495\n",
      "C =  10.0 \n",
      "score =  0.7517391906023333\n",
      "Time of iter: 0:00:05.387506\n",
      "C =  100.0 \n",
      "score =  0.7517398716123277\n",
      "Time of iter: 0:00:05.569691\n",
      "C =  1000.0 \n",
      "score =  0.751741449724611\n",
      "Time of iter: 0:00:05.423373\n",
      "C =  10000.0 \n",
      "score =  0.7517425685888985\n",
      "Time of iter: 0:00:05.378506\n",
      "C =  100000.0 \n",
      "score =  0.7517433605616392\n",
      "Time of iter: 0:00:05.557593\n"
     ]
    }
   ],
   "source": [
    "cv = KFold(random_state=241, n_splits=5, shuffle=True)\n",
    "reg_result_ketegor = []\n",
    "C_range = [(10.0**i) for i in np.arange(-5, 6)]\n",
    "\n",
    "for regul_param in C_range:\n",
    "    start_time = datetime.datetime.now()\n",
    "    logit = LogisticRegression(random_state = 241, penalty = 'l2', n_jobs = -1, C = regul_param)\n",
    "    reg_score = np.mean(cross_val_score(estimator=logit, X=train_scaled_with_heroes, y=y, cv=cv, n_jobs=-1, scoring=\"roc_auc\"))\n",
    "    reg_result_ketegor.append(reg_score)\n",
    "    print('C = ', regul_param, '\\nscore = ', reg_score)\n",
    "    print('Time of iter:', datetime.datetime.now() - start_time)"
   ]
  },
  {
   "cell_type": "code",
   "execution_count": 141,
   "metadata": {},
   "outputs": [],
   "source": [
    "hashmap_bag = {}\n",
    "for i in range(len(reg_result_ketegor)):\n",
    "    hashmap_bag[reg_result_ketegor[i]] = i"
   ]
  },
  {
   "cell_type": "code",
   "execution_count": 142,
   "metadata": {},
   "outputs": [
    {
     "data": {
      "text/plain": [
       "-0.035476072483198284"
      ]
     },
     "execution_count": 142,
     "metadata": {},
     "output_type": "execute_result"
    }
   ],
   "source": [
    "reg_result_numonly[hashmap_nums[sorted(hashmap_nums, reverse=True)[0]]] - reg_result_ketegor[hashmap_bag[sorted(hashmap_bag, reverse=True)[0]]]"
   ]
  },
  {
   "cell_type": "markdown",
   "metadata": {},
   "source": [
    "качество улучшилось на 3%"
   ]
  },
  {
   "cell_type": "code",
   "execution_count": 143,
   "metadata": {},
   "outputs": [],
   "source": [
    "best_reg = reg_result_ketegor[hashmap_bag[sorted(hashmap_bag, reverse=True)[0]]]"
   ]
  },
  {
   "cell_type": "markdown",
   "metadata": {},
   "source": [
    "6. Постройте предсказания вероятностей победы команды Radiant для тестовой выборки с помощью лучшей из изученных моделей (лучшей с точки зрения AUC-ROC на кросс-валидации). Убедитесь, что предсказанные вероятности адекватные — находятся на отрезке [0, 1], не совпадают между собой (т.е. что модель не получилась константной)."
   ]
  },
  {
   "cell_type": "code",
   "execution_count": null,
   "metadata": {},
   "outputs": [],
   "source": [
    "X_test = pd.read_csv('./features_test.csv', index_col='match_id')\n",
    "X_train = StandardScaler().fit_transform(X)"
   ]
  },
  {
   "cell_type": "code",
   "execution_count": null,
   "metadata": {},
   "outputs": [],
   "source": [
    "X_test = X_test.fillna(0)\n",
    "\n",
    "X_pick = np.zeros((X_test.shape[0], 112))\n",
    "for i, match_id in enumerate(X_test.index):\n",
    "    for p in range(5):\n",
    "        X_pick[i, X_test.loc[match_id, 'r%d_hero' % (p+1)]-1] = 1\n",
    "        X_pick[i, X_test.loc[match_id, 'd%d_hero' % (p+1)]-1] = -1\n",
    "\n",
    "X_test = X_test.drop(cat_features_to_delete, axis=1)\n",
    "X_test = np.hstack((X_test.values, X_pick))\n",
    "X_test = StandardScaler().fit_transform(X_test)"
   ]
  },
  {
   "cell_type": "code",
   "execution_count": null,
   "metadata": {},
   "outputs": [],
   "source": [
    "clf = LogisticRegression(C=best_c)\n",
    "clf = clf.fit(X_train, y)\n",
    "pred = clf.predict_proba(X_test)[:, 1]\n",
    "pred"
   ]
  },
  {
   "cell_type": "code",
   "execution_count": null,
   "metadata": {},
   "outputs": [],
   "source": [
    "print('Min:', min(pred))\n",
    "print('Max:', max(pred))"
   ]
  },
  {
   "cell_type": "markdown",
   "metadata": {},
   "source": [
    "## Проверка финальной модели\n",
    "\n",
    "После того как вы провели все эксперименты и выбрали лучшую модель, можете проверить ее качество на тестовых матчах. Выборка тестовых матчей собрана в файле `matches_test.jsonlines.bz2`. В отличие от основного набора матчей, в тестовых матчах есть только та информация, которая известна на момент первых 5 игровых минут, результат матча — неизвестен. Таблица признаков для тестовых матчей — `features_test.csv`.\n",
    "\n",
    "Для всех матчей из тестового набора предскажите вероятность победы Radiant, запишите предсказания в CSV файл с колонками `match_id` (идентификатор матча) и `radiant_win` — предсказанная вероятность. Файл с предсказаниями должен выглядеть примерно следующим образом:\n",
    "\n",
    "```\n",
    "match_id,radiant_win\n",
    "1,0.51997370502\n",
    "4,0.51997370502\n",
    "15,0.51997370502\n",
    "...\n",
    "```\n",
    "\n",
    "Отправьте решение на Kaggle в соревнование: Dota 2: Win Probability Prediction.\n",
    "\n",
    "Ссылка на соревнование: [Dota 2: Win Probability Prediction](https://kaggle.com/join/coursera_ml_dota2_contest)"
   ]
  },
  {
   "cell_type": "markdown",
   "metadata": {},
   "source": [
    "### Что еще попробовать?\n",
    "\n",
    "Разумеется, можно попробовать еще очень много разных идей, которые помогут вам получить еще более высокий результат на kaggle. Вот лишь несколько возможных вариантов:\n",
    "1. Про каждого из игроков есть достаточно много показателей: максимальный опыт, число смертей и т.д. (см. список выше). Можно попробовать просуммировать или усредних их, получив агрегированные показатели для всей команды.\n",
    "2. В сырых данных (файл matches.jsonlines.bz2) содержится очень много информации, которую мы пока не использовали. Вы можете, например, составить \"мешки слов\" для покупок различных предметов (то есть кодировать информацию о том, сколько раз каждая команда покупала тот или иной предмет). Обратите внимание, что при этом вы можете получить слишком большое количество признаков, для которых может иметь смысл сделать понижение размерности с помощью метода главных компонент.\n",
    "3. Можно сформировать признаки про изменения способностей героев в течение матча (ability_upgrades).\n",
    "4. В этом задании используются только градиентный бустинг и логистическая регрессия — но ведь мы изучали и другие модели! Можно попробовать метод k ближайших соседей, SVM, случайный лес и так далее."
   ]
  },
  {
   "cell_type": "markdown",
   "metadata": {},
   "source": [
    "## Про задачу и финальное задание\n",
    "\n",
    "#### Почему именно такая задача?\n",
    "\n",
    "- Публикация реальных данных из индустриальных задач — очень смелый шаг для компании. Мало кто (даже Яндекс) может на такое пойти. Гораздо проще (а порой и интереснее) воспользоваться данными из открытых источников.\n",
    "- Публичные датасеты из интернета для решения реальных бизнес-задач мало пригодны, собственно поэтому они и лежат в открытом доступе.\n",
    "- Мы предпочли сделать игрушечную задачу на реальных данных, вместо реальной задачи на игрушечных данных.\n",
    "- Задача прогнозирования победы — игрушечная, но вот лишь небольшой перечень реальных задач, на которые она похожа:\n",
    "    - предсказания вероятности покупки услуги клиентом банка\n",
    "    - предсказание вероятности оттока клиента к другому поставщику услуг\n",
    "    - ... (подумайте над другими примерами)\n",
    "\n",
    "#### Задание слишком простое. Что еще можно сделать?\n",
    "\n",
    "Ответить на вопрос: какое минимальное число минут матча необходимо знать, для того чтобы в 80% матчей верно угадывать победившую сторону? А с точностью 90%? Дайте свой ответ на этот вопрос и докажите что такой точности действительно можно достичь, построив модель и качественно провалидировав ее. Насколько матчи в игре Dota 2 предсказуемы?\n",
    "\n",
    "Напишите об этом статью, расскажите всем, и приходите к нам на собеседование.\n",
    "\n",
    "#### Где взяли данные?\n",
    "\n",
    "Набор данных был сделан на основе выгрузки [YASP 3.5 Million Data Dump](http://academictorrents.com/details/5c5deeb6cfe1c944044367d2e7465fd8bd2f4acf) реплеев матчей Dota 2 с сайта [yasp.co](http://yasp.co/). За выгрузку огромное спасибо Albert Cui and Howard Chung and Nicholas Hanson-Holtry. Лицензия на выгрузку: CC BY-SA 4.0.\n",
    "\n",
    "#### Как сформировали выборку?\n",
    "\n",
    "Оригинальная выгрузка матчей была очищена, в предложенном наборе присутствуют матчи:\n",
    "  - сыгранные с 2015-05-01 до 2015-12-17\n",
    "  - длительностью не менее 15 минут\n",
    "  - убраны матчи с неполной информацией (например: отсутвует информация про игроков)\n",
    "\n",
    "Из всего датасета 15% случайных записей были выделены в тестовое множество.\n",
    "\n",
    "Для того чтобы размотивировать участников соревнования на Kaggle занимать высокие места читерскими методами (например, скачав оригинальный набор данных и подсмотрев ответы на тестовом множестве матчей), мы произвели минимальную обфускацию данных, т.е. немного запутали датасет:\n",
    "   - поменяли идентификаторы матчей\n",
    "   - время начала каждого матча сдвинули на значение случайной величины, нормально распределенной со стандартным отклонением в 1 сутки"
   ]
  }
 ],
 "metadata": {
  "kernelspec": {
   "display_name": "Python 3 (ipykernel)",
   "language": "python",
   "name": "python3"
  },
  "language_info": {
   "codemirror_mode": {
    "name": "ipython",
    "version": 3
   },
   "file_extension": ".py",
   "mimetype": "text/x-python",
   "name": "python",
   "nbconvert_exporter": "python",
   "pygments_lexer": "ipython3",
   "version": "3.9.10"
  }
 },
 "nbformat": 4,
 "nbformat_minor": 1
}
