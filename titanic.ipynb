{
 "cells": [
  {
   "cell_type": "markdown",
   "metadata": {},
   "source": [
    "<center>\n",
    "<img src=\"../../img/ods_stickers.jpg\">\n",
    "## Открытый курс по машинному обучению. Сессия № 2\n",
    "</center>\n",
    "Автор материала: программист-исследователь Mail.ru Group, старший преподаватель Факультета Компьютерных Наук ВШЭ Юрий Кашницкий. Материал распространяется на условиях лицензии [Creative Commons CC BY-NC-SA 4.0](https://creativecommons.org/licenses/by-nc-sa/4.0/). Можно использовать в любых целях (редактировать, поправлять и брать за основу), кроме коммерческих, но с обязательным упоминанием автора материала."
   ]
  },
  {
   "cell_type": "markdown",
   "metadata": {},
   "source": [
    "# <center>Тема 1. Первичный анализ данных с Pandas</center>\n",
    "## <center>Практическое задание. Анализ данных пассажиров \"Титаника\"</center>\n",
    "\n",
    "**Заполните код в клетках (где написано \"Ваш код здесь\") и ответьте на вопросы в [веб-форме](https://goo.gl/SbRcpW).**"
   ]
  },
  {
   "cell_type": "code",
   "execution_count": null,
   "metadata": {},
   "outputs": [],
   "source": [
    "import numpy as np\n",
    "import pandas as pd\n",
    "\n",
    "%matplotlib inline"
   ]
  },
  {
   "cell_type": "markdown",
   "metadata": {},
   "source": [
    "**Считаем данные из файла в память в виде объекта Pandas.DataFrame**"
   ]
  },
  {
   "cell_type": "code",
   "execution_count": null,
   "metadata": {},
   "outputs": [],
   "source": [
    "data = pd.read_csv(\"../../data/titanic_train.csv\", index_col=\"PassengerId\")"
   ]
  },
  {
   "cell_type": "markdown",
   "metadata": {},
   "source": [
    "**Данные представлены в виде таблицы. Посмотрим на первые 5 строк:**"
   ]
  },
  {
   "cell_type": "code",
   "execution_count": null,
   "metadata": {},
   "outputs": [],
   "source": [
    "data.head(5)"
   ]
  },
  {
   "cell_type": "code",
   "execution_count": null,
   "metadata": {},
   "outputs": [],
   "source": [
    "data.describe()"
   ]
  },
  {
   "cell_type": "markdown",
   "metadata": {},
   "source": [
    "**Для примера отберем пассажиров, которые сели в Cherbourg (Embarked=C) и заплатили более 200 у.е. за билет (fare > 200).**\n",
    "\n",
    "Убедитесь, что Вы понимаете, как эта конструкция работает. <br>\n",
    "Если нет – посмотрите, как вычисляется выражение в квадратных в скобках."
   ]
  },
  {
   "cell_type": "code",
   "execution_count": null,
   "metadata": {},
   "outputs": [],
   "source": [
    "data[(data[\"Embarked\"] == \"C\") & (data.Fare > 200)].head()"
   ]
  },
  {
   "cell_type": "markdown",
   "metadata": {},
   "source": [
    "**Можно отсортировать этих людей по убыванию платы за билет.**"
   ]
  },
  {
   "cell_type": "code",
   "execution_count": null,
   "metadata": {},
   "outputs": [],
   "source": [
    "data[(data[\"Embarked\"] == \"C\") & (data[\"Fare\"] > 200)].sort_values(\n",
    "    by=\"Fare\", ascending=False\n",
    ").head()"
   ]
  },
  {
   "cell_type": "markdown",
   "metadata": {},
   "source": [
    "**Пример создания признака.**"
   ]
  },
  {
   "cell_type": "code",
   "execution_count": null,
   "metadata": {},
   "outputs": [],
   "source": [
    "def age_category(age):\n",
    "    \"\"\"\n",
    "    < 30 -> 1\n",
    "    >= 30, <55 -> 2\n",
    "    >= 55 -> 3\n",
    "    \"\"\"\n",
    "    if age < 30:\n",
    "        return 1\n",
    "    elif age < 55:\n",
    "        return 2\n",
    "    else:\n",
    "        return 3"
   ]
  },
  {
   "cell_type": "code",
   "execution_count": null,
   "metadata": {},
   "outputs": [],
   "source": [
    "age_categories = [age_category(age) for age in data.Age]"
   ]
  },
  {
   "cell_type": "code",
   "execution_count": null,
   "metadata": {},
   "outputs": [],
   "source": [
    "data[\"Age_category\"] = age_categories"
   ]
  },
  {
   "cell_type": "markdown",
   "metadata": {},
   "source": [
    "**Другой способ – через `apply`.**"
   ]
  },
  {
   "cell_type": "code",
   "execution_count": null,
   "metadata": {},
   "outputs": [],
   "source": [
    "data[\"Age_category\"] = data[\"Age\"].apply(age_category)"
   ]
  },
  {
   "cell_type": "markdown",
   "metadata": {},
   "source": [
    "**1. Сколько мужчин / женщин находилось на борту?**\n",
    "- 412 мужчин и 479 женщин\n",
    "- 314 мужчин и 577 женщин\n",
    "- 479 мужчин и 412 женщин\n",
    "- 577 мужчин и 314 женщин"
   ]
  },
  {
   "cell_type": "code",
   "execution_count": null,
   "metadata": {},
   "outputs": [],
   "source": [
    "    # print(data[data[\"Sex\"] == 'male'].shape)\n",
    "    # print(data[data[\"Sex\"] == 'male'].describe())\n",
    "    # print(data[\"Sex\"].value_counts()) # полностью верный метод я считаю!\n",
    "    # print(data[data[\"Sex\"] != 'male'].shape)\n",
    "    # print(data[(data[\"Sex\"] == 'male')].shape)\n",
    "    # print(data[data[\"Sex\"] != 'male'].shape)"
   ]
  },
  {
   "cell_type": "code",
   "execution_count": null,
   "metadata": {},
   "outputs": [],
   "source": [
    "    print(\"На борту было {} мужчин и {} женщин.\".format(sum(data['Sex'] == 'male'),\n",
    "                                                        sum(data['Sex'] == 'female')))\n",
    "    data['Sex'].value_counts()"
   ]
  },
  {
   "cell_type": "markdown",
   "metadata": {},
   "source": [
    "**2. Выведите распределение переменной `Pclass` (социально-экономический статус) и это же распределение, только для мужчин / женщин по отдельности. Сколько было мужчин 2-го класса?**\n",
    "- 104\n",
    "- 108\n",
    "- 112\n",
    "- 125"
   ]
  },
  {
   "cell_type": "code",
   "execution_count": null,
   "metadata": {},
   "outputs": [],
   "source": [
    "    # print(data['Pclass'].value_counts())\n",
    "    # print(pd.crosstab(data['Sex'], data['Pclass']))\n",
    "    # print(data[(data[\"Sex\"] == 'male') & (data['Pclass'] == 2)].shape)"
   ]
  },
  {
   "cell_type": "code",
   "execution_count": null,
   "metadata": {},
   "outputs": [],
   "source": [
    "    pd.crosstab(data['Pclass'], data['Sex'], margins=True)\n",
    "    data['Pclass'].hist(label='all')\n",
    "    data[data['Sex'] == 'male']['Pclass'].hist(color=\"green\",\n",
    "                                               label='male')\n",
    "    data[data['Sex'] == 'female']['Pclass'].hist(color=\"yellow\",\n",
    "                                                 label='female')\n",
    "    plt.title('Distribution by class and gender.')\n",
    "    plt.xlabel('Pclass')\n",
    "    plt.ylabel('Frequency')\n",
    "    plt.legend(loc='upper left');"
   ]
  },
  {
   "cell_type": "markdown",
   "metadata": {},
   "source": [
    "**3. Каковы медиана и стандартное отклонение платежей (`Fare`)? Округлите до 2 десятичных знаков.**\n",
    "- Медиана – 14.45, стандартное отклонение – 49.69\n",
    "- Медиана – 15.1, стандартное отклонение – 12.15\n",
    "- Медиана – 13.15, стандартное отклонение – 35.3\n",
    "- Медиана – 17.43, стандартное отклонение – 39.1"
   ]
  },
  {
   "cell_type": "code",
   "execution_count": null,
   "metadata": {},
   "outputs": [],
   "source": [
    "    # print(data['Fare'].describe())\n",
    "    # print(data['Fare'].quantile(.50))\n",
    "    # print(data['Fare'].std())"
   ]
  },
  {
   "cell_type": "code",
   "execution_count": null,
   "metadata": {},
   "outputs": [],
   "source": [
    "    print(\"Median fare: \", round(data['Fare'].median(), 2))\n",
    "    print(\"Fare std: \", round(data['Fare'].std(), 2))"
   ]
  },
  {
   "cell_type": "markdown",
   "metadata": {},
   "source": [
    "**4. Правда ли, что люди моложе 30 лет выживали чаще, чем люди старше 60 лет? Каковы доли выживших в обеих группах?**\n",
    "- 22.7% среди молодых и 40.6% среди старых\n",
    "- 40.6% среди молодых и 22.7% среди старых\n",
    "- 35.3% среди молодых и 27.4% среди старых\n",
    "- 27.4% среди молодых и 35.3% среди старых"
   ]
  },
  {
   "cell_type": "code",
   "execution_count": null,
   "metadata": {},
   "outputs": [],
   "source": [
    "    # print(data.columns)\n",
    "    # print(data[(data[\"Age\"] < 30) & (data[\"Survived\"] == 1)].shape[0])\n",
    "    # print(data[(data[\"Age\"] < 30)].shape[0])\n",
    "    # print(data[(data[\"Age\"] > 60) & (data[\"Survived\"] == 1)].shape[0])\n",
    "    # print((data[(data[\"Age\"] < 30) & (data[\"Survived\"] == 1)].shape[0]/data[(data[\"Age\"] < 30)].shape[0]*100))\n",
    "    # print((data[(data[\"Age\"] > 60) & (data[\"Survived\"] == 1)].shape[0] / data[(data[\"Age\"] > 60)].shape[0] * 100))\n",
    "    # print(data[(data[\"Age\"] < 30) & (data[\"Survived\"] == 1)].shape)\n",
    "    # print(data[(data[\"Age\"] > 30) & (data[\"Survived\"] == 1)].shape)\n",
    "    # print(pd.crosstab(data['Age'] < 30, data['Survived'] == 1))\n",
    "    # print(156/(228+156)*100)\n",
    "    # print(pd.crosstab(data['Age'] > 60, data['Survived'] == 1))\n",
    "    # print(5 / (17 + 5)*100)"
   ]
  },
  {
   "cell_type": "code",
   "execution_count": null,
   "metadata": {},
   "outputs": [],
   "source": [
    "    young_survived = data[data['Age'] < 30]['Survived']\n",
    "    old_survived = data[data['Age'] > 60]['Survived']\n",
    "\n",
    "    print(\"Доли выживших: \\n\\t среди молодых {}%, \\n\\t среди старых {}%.\".format(\n",
    "        round(100 * young_survived.mean(), 1),\n",
    "        round(100 * old_survived.mean(), 1)))"
   ]
  },
  {
   "cell_type": "markdown",
   "metadata": {},
   "source": [
    "**5. Правда ли, что женщины выживали чаще мужчин? Каковы доли выживших в обеих группах?**\n",
    "- 30.2% среди мужчин и 46.2% среди женщин\n",
    "- 35.7% среди мужчин и 74.2% среди женщин\n",
    "- 21.1% среди мужчин и 46.2% среди женщин\n",
    "- 18.9% среди мужчин и 74.2% среди женщин"
   ]
  },
  {
   "cell_type": "code",
   "execution_count": null,
   "metadata": {},
   "outputs": [],
   "source": [
    "    # print(pd.crosstab(data['Sex'], data['Survived'] == 1))\n",
    "    # print(233/(81+233)*100)\n",
    "    # print(109/(109+468)*100)"
   ]
  },
  {
   "cell_type": "code",
   "execution_count": null,
   "metadata": {},
   "outputs": [],
   "source": [
    "    male_survived = data[data['Sex'] == 'male']['Survived']\n",
    "    female_survived = data[data['Sex'] == 'female']['Survived']\n",
    "\n",
    "    print(\"Доли выживыших: \\n\\t среди женщин {}%, \\n\\t среди мужчин {}%\".format(\n",
    "        round(100 * female_survived.mean(), 1), round(100 * male_survived.mean(), 1)))\n"
   ]
  },
  {
   "cell_type": "markdown",
   "metadata": {},
   "source": [
    "**6. Найдите самое популярное имя среди пассажиров Титаника мужского пола?**\n",
    "- Charles\n",
    "- Thomas\n",
    "- William\n",
    "- John"
   ]
  },
  {
   "cell_type": "code",
   "execution_count": null,
   "metadata": {},
   "outputs": [],
   "source": [
    "    # names = {}\n",
    "    # pattern = r\"\\. \\w*\"\n",
    "    # # print(data['Name'])\n",
    "    # for full_name in data['Name']:\n",
    "    #     name = re.search(pattern, full_name)\n",
    "    #     if name.group(0)[2:] in names:\n",
    "    #         names[name.group(0)[2:]] += 1\n",
    "    #     else:\n",
    "    #         names[name.group(0)[2:]] = 1\n",
    "    #\n",
    "    # print(dict(sorted(names.items(), reverse=True, key=lambda x: x[1])))\n",
    "\n",
    "    # first_names = data[data['Sex'] == 'male']['Name'].apply(lambda full_name:\n",
    "    #                                                         full_name.split(',')[1].split()[1])\n"
   ]
  },
  {
   "cell_type": "code",
   "execution_count": null,
   "metadata": {},
   "outputs": [],
   "source": [
    "    first_names = data[data['Sex'] == 'male']['Name'].apply(lambda full_name:\n",
    "                                                            full_name.split(',')[1].split()[1])\n",
    "    first_names.value_counts().head()"
   ]
  },
  {
   "cell_type": "markdown",
   "metadata": {},
   "source": [
    "**7. Сравните графически распределение стоимости билетов и возраста у спасенных и у погибших. Средний возраст погибших выше, верно?**\n",
    "- Да \n",
    "- Нет"
   ]
  },
  {
   "cell_type": "code",
   "execution_count": null,
   "metadata": {},
   "outputs": [],
   "source": [
    "    # print(data.groupby('Survived')['Age'].mean())\n",
    "    # data[data['Survived'] == 1]['Fare'].hist(color=\"green\",\n",
    "    #                                          label='Survived')\n",
    "    # data[data['Survived'] == 0]['Fare'].hist(color=\"red\",\n",
    "    #                                          label='Died')\n",
    "    # plt.title('Ticket fare for survived and died')\n",
    "    # plt.xlabel('Pounds')\n",
    "    # plt.ylabel('Frequency')\n",
    "    # plt.legend();\n",
    "    # plt.show()\n",
    "    #\n",
    "    # data[data['Survived'] == 1]['Age'].hist(color=\"green\",\n",
    "    #                                          label='Survived')\n",
    "    # data[data['Survived'] == 0]['Age'].hist(color=\"red\",\n",
    "    #                                          label='Died')\n",
    "    # plt.title('Ticket fare for survived and died')\n",
    "    # plt.xlabel('Years')\n",
    "    # plt.ylabel('Frequency')\n",
    "    # plt.legend();\n",
    "    # plt.show()\n",
    "    # print(sns.boxplot(data['Survived'], data['Age']))\n"
   ]
  },
  {
   "cell_type": "markdown",
   "metadata": {},
   "source": [
    "**8. Как отличается средний возраст мужчин / женщин в зависимости от класса обслуживания? Выберите верные утверждения:**\n",
    "- В среднем мужчины 1-го класса старше 40 лет\n",
    "- В среднем женщины 1-го класса старше 40 лет\n",
    "- Мужчины всех классов в среднем старше женщин того же класса\n",
    "- В среднем люди в 1 классе старше, чем во 2-ом, а те старше представителей 3-го класса"
   ]
  },
  {
   "cell_type": "code",
   "execution_count": null,
   "metadata": {},
   "outputs": [],
   "source": [
    "    # print(data.columns)\n",
    "    # data_males = data[(data['Sex'] == 'male')]\n",
    "    # data_females = data[(data['Sex'] != 'male')]\n",
    "    # print(data_females.groupby('Pclass')[\"Age\"].mean())\n",
    "    # print(data_males.groupby('Pclass')[\"Age\"].mean())"
   ]
  },
  {
   "cell_type": "code",
   "execution_count": null,
   "metadata": {},
   "outputs": [],
   "source": [
    "    for cl in data['Pclass'].unique():\n",
    "        for sex in data['Sex'].unique():\n",
    "            print(\"Average age for {0} and class {1}: {2}\".format(sex, cl,\n",
    "                                                                  round(data[(data['Sex'] == sex)\n",
    "                                                                             & (data['Pclass'] == cl)]['Age'].mean(),\n",
    "                                                                        2)))\n",
    "    for (cl, sex), sub_df in data.groupby(['Pclass', 'Sex']):\n",
    "        print(\"Average age for {0} and class {1}: {2}\".format(sex, cl,\n",
    "                                                              round(sub_df['Age'].mean(), 2)))\n",
    "    pd.crosstab(data['Pclass'], data['Sex'],\n",
    "                values=data['Age'], aggfunc=np.mean)\n",
    "    # sns.boxplot(data['Pclass'], data['Age'])"
   ]
  }
 ],
 "metadata": {
  "anaconda-cloud": {},
  "kernelspec": {
   "display_name": "Python 3 (ipykernel)",
   "language": "python",
   "name": "python3"
  },
  "language_info": {
   "codemirror_mode": {
    "name": "ipython",
    "version": 3
   },
   "file_extension": ".py",
   "mimetype": "text/x-python",
   "name": "python",
   "nbconvert_exporter": "python",
   "pygments_lexer": "ipython3",
   "version": "3.9.10"
  },
  "name": "seminar02_practice_pandas_titanic.ipynb"
 },
 "nbformat": 4,
 "nbformat_minor": 1
}
